{
 "cells": [
  {
   "cell_type": "code",
   "execution_count": 10,
   "metadata": {},
   "outputs": [],
   "source": [
    "import torch\n",
    "from torch import nn\n",
    "from torch.utils.data import DataLoader\n",
    "from torchvision import datasets\n",
    "from torchvision.transforms import ToTensor\n",
    "import torchvision.transforms\n",
    "from tqdm import tqdm\n",
    "import matplotlib.pyplot as plt\n",
    "import torch.nn.functional as F"
   ]
  },
  {
   "cell_type": "code",
   "execution_count": 11,
   "metadata": {},
   "outputs": [],
   "source": [
    "training_data = datasets.MNIST(\n",
    "    root = \"data\",\n",
    "    train = True,\n",
    "    download = True,\n",
    "    transform = ToTensor(),\n",
    ")\n",
    "\n",
    "test_data = datasets.MNIST(\n",
    "    root = \"data\",\n",
    "    train = False,\n",
    "    download = True,\n",
    "    transform = ToTensor(),\n",
    ")"
   ]
  },
  {
   "cell_type": "code",
   "execution_count": 12,
   "metadata": {},
   "outputs": [
    {
     "name": "stdout",
     "output_type": "stream",
     "text": [
      "Shape of X: [N, C, H, W]: torch.Size([64, 1, 28, 28])\n",
      "Shape of y: torch.Size([64])<built-in method type of Tensor object at 0x177912720>\n"
     ]
    }
   ],
   "source": [
    "batch_size = 64\n",
    "\n",
    "training_dataloader = DataLoader(training_data, batch_size=batch_size)\n",
    "test_dataloader = DataLoader(test_data, batch_size=batch_size)\n",
    "\n",
    "\n",
    "for X, y in test_dataloader:\n",
    "    print(f'Shape of X: [N, C, H, W]: {X.shape}')\n",
    "    print(f'Shape of y: {y.shape}{y.type}')\n",
    "    \n",
    "    break"
   ]
  },
  {
   "cell_type": "code",
   "execution_count": 13,
   "metadata": {},
   "outputs": [
    {
     "name": "stdout",
     "output_type": "stream",
     "text": [
      "Using: mps device\n"
     ]
    }
   ],
   "source": [
    "device = 'cuda' if torch.cuda.is_available() else 'mps' if torch.backends.mps.is_available() else 'cpu'\n",
    "print(f'Using: {device} device')"
   ]
  },
  {
   "cell_type": "code",
   "execution_count": 18,
   "metadata": {},
   "outputs": [
    {
     "name": "stdout",
     "output_type": "stream",
     "text": [
      "LeNet(\n",
      "  (conv1): Conv2d(1, 6, kernel_size=(3, 3), stride=(1, 1))\n",
      "  (conv2): Conv2d(6, 16, kernel_size=(3, 3), stride=(1, 1))\n",
      "  (fc1): Linear(in_features=400, out_features=512, bias=True)\n",
      "  (fc2): Linear(in_features=512, out_features=512, bias=True)\n",
      "  (fc3): Linear(in_features=512, out_features=512, bias=True)\n",
      "  (fc4): Linear(in_features=512, out_features=10, bias=True)\n",
      ")\n"
     ]
    }
   ],
   "source": [
    "class LeNet(nn.Module):\n",
    "    def __init__(self) -> None:\n",
    "        super().__init__()\n",
    "\n",
    "        self.conv1 = nn.Conv2d(1, 6, 3)\n",
    "        self.conv2 = nn.Conv2d(6, 16, 3)\n",
    "\n",
    "        self.fc1 = nn.Linear(400, 512)\n",
    "        self.fc2 = nn.Linear(512, 512)\n",
    "        self.fc3 = nn.Linear(512, 512)\n",
    "        self.fc4 = nn.Linear(512, 10)\n",
    "\n",
    "    def forward(self, x):\n",
    "        x = F.max_pool2d(F.relu(self.conv1(x)), (2,2))\n",
    "        x = F.max_pool2d(F.relu(self.conv2(x)),2)\n",
    "        x = x.view(-1, self.num_flat_features(x))\n",
    "        x = F.relu(self.fc1(x))\n",
    "        x = F.relu(self.fc2(x))\n",
    "        x = F.relu(self.fc3(x))\n",
    "        x = self.fc4(x)\n",
    "        return x\n",
    "\n",
    "    def num_flat_features(self, x):\n",
    "        size = x.size()[1:]\n",
    "        num_features = 1\n",
    "\n",
    "        for s in size:\n",
    "            num_features *= s\n",
    "        \n",
    "        return num_features\n",
    "\n",
    "model = LeNet().to(device=device)\n",
    "print(model)"
   ]
  },
  {
   "cell_type": "code",
   "execution_count": 19,
   "metadata": {},
   "outputs": [],
   "source": [
    "epochs = 10\n",
    "learning_rate = 1e-3\n",
    "\n",
    "loss_fn = nn.CrossEntropyLoss()\n",
    "optim = torch.optim.Adam(model.parameters(), lr = learning_rate)"
   ]
  },
  {
   "cell_type": "code",
   "execution_count": 20,
   "metadata": {},
   "outputs": [],
   "source": [
    "def train(dataloader, model, loss_fn, optimzer):\n",
    "    model.train()\n",
    "\n",
    "    for X,y in tqdm(dataloader):\n",
    "        X, y = X.to(device), y.to(device)\n",
    "\n",
    "        pred = model(X)\n",
    "        loss = loss_fn(pred, y)\n",
    "\n",
    "        optimzer.zero_grad()\n",
    "        loss.backward()\n",
    "        optimzer.step()"
   ]
  },
  {
   "cell_type": "code",
   "execution_count": 21,
   "metadata": {},
   "outputs": [],
   "source": [
    "def test(dataloader, model, loss_fn):\n",
    "    size = len(dataloader.dataset)\n",
    "    model.eval()\n",
    "\n",
    "    correct = 0\n",
    "\n",
    "    with torch.no_grad():\n",
    "\n",
    "        for X, y in tqdm(dataloader):\n",
    "            X, y = X.to(device), y.to(device)\n",
    "            pred = model(X)\n",
    "\n",
    "            x = (pred.argmax(1) == y)\n",
    "            x = x.type(torch.float)\n",
    "            x = x.sum()\n",
    "            x = x.item()\n",
    "\n",
    "            correct += x\n",
    "    print(f'Accuracy(%): {correct/size*100}')"
   ]
  },
  {
   "cell_type": "code",
   "execution_count": 22,
   "metadata": {},
   "outputs": [
    {
     "name": "stderr",
     "output_type": "stream",
     "text": [
      "100%|██████████| 938/938 [00:11<00:00, 83.91it/s] \n",
      "100%|██████████| 157/157 [00:00<00:00, 245.18it/s]\n"
     ]
    },
    {
     "name": "stdout",
     "output_type": "stream",
     "text": [
      "Accuracy(%): 96.21\n",
      "0\n"
     ]
    },
    {
     "name": "stderr",
     "output_type": "stream",
     "text": [
      "100%|██████████| 938/938 [00:09<00:00, 95.08it/s]\n",
      "100%|██████████| 157/157 [00:00<00:00, 264.72it/s]\n"
     ]
    },
    {
     "name": "stdout",
     "output_type": "stream",
     "text": [
      "Accuracy(%): 98.21\n",
      "1\n"
     ]
    },
    {
     "name": "stderr",
     "output_type": "stream",
     "text": [
      "100%|██████████| 938/938 [00:09<00:00, 96.64it/s] \n",
      "100%|██████████| 157/157 [00:00<00:00, 261.78it/s]\n"
     ]
    },
    {
     "name": "stdout",
     "output_type": "stream",
     "text": [
      "Accuracy(%): 98.36\n",
      "2\n"
     ]
    },
    {
     "name": "stderr",
     "output_type": "stream",
     "text": [
      "100%|██████████| 938/938 [00:09<00:00, 94.79it/s] \n",
      "100%|██████████| 157/157 [00:00<00:00, 265.43it/s]\n"
     ]
    },
    {
     "name": "stdout",
     "output_type": "stream",
     "text": [
      "Accuracy(%): 98.31\n",
      "3\n"
     ]
    },
    {
     "name": "stderr",
     "output_type": "stream",
     "text": [
      "100%|██████████| 938/938 [00:09<00:00, 98.61it/s] \n",
      "100%|██████████| 157/157 [00:00<00:00, 268.91it/s]\n"
     ]
    },
    {
     "name": "stdout",
     "output_type": "stream",
     "text": [
      "Accuracy(%): 98.53\n",
      "4\n"
     ]
    },
    {
     "name": "stderr",
     "output_type": "stream",
     "text": [
      "100%|██████████| 938/938 [00:09<00:00, 97.70it/s] \n",
      "100%|██████████| 157/157 [00:00<00:00, 270.16it/s]\n"
     ]
    },
    {
     "name": "stdout",
     "output_type": "stream",
     "text": [
      "Accuracy(%): 98.79\n",
      "5\n"
     ]
    },
    {
     "name": "stderr",
     "output_type": "stream",
     "text": [
      "100%|██████████| 938/938 [00:09<00:00, 98.82it/s] \n",
      "100%|██████████| 157/157 [00:00<00:00, 270.70it/s]\n"
     ]
    },
    {
     "name": "stdout",
     "output_type": "stream",
     "text": [
      "Accuracy(%): 98.6\n",
      "6\n"
     ]
    },
    {
     "name": "stderr",
     "output_type": "stream",
     "text": [
      "100%|██████████| 938/938 [00:09<00:00, 98.55it/s] \n",
      "100%|██████████| 157/157 [00:00<00:00, 266.73it/s]\n"
     ]
    },
    {
     "name": "stdout",
     "output_type": "stream",
     "text": [
      "Accuracy(%): 98.88\n",
      "7\n"
     ]
    },
    {
     "name": "stderr",
     "output_type": "stream",
     "text": [
      "100%|██████████| 938/938 [00:09<00:00, 98.34it/s] \n",
      "100%|██████████| 157/157 [00:00<00:00, 270.37it/s]\n"
     ]
    },
    {
     "name": "stdout",
     "output_type": "stream",
     "text": [
      "Accuracy(%): 98.74000000000001\n",
      "8\n"
     ]
    },
    {
     "name": "stderr",
     "output_type": "stream",
     "text": [
      "100%|██████████| 938/938 [00:09<00:00, 98.18it/s] \n",
      "100%|██████████| 157/157 [00:00<00:00, 271.32it/s]"
     ]
    },
    {
     "name": "stdout",
     "output_type": "stream",
     "text": [
      "Accuracy(%): 98.92\n",
      "9\n"
     ]
    },
    {
     "name": "stderr",
     "output_type": "stream",
     "text": [
      "\n"
     ]
    }
   ],
   "source": [
    "for i in range(epochs):\n",
    "    train(training_dataloader, model, loss_fn, optim)\n",
    "    test(test_dataloader, model, loss_fn)\n",
    "    print(i)"
   ]
  },
  {
   "cell_type": "code",
   "execution_count": 1,
   "metadata": {},
   "outputs": [
    {
     "name": "stdout",
     "output_type": "stream",
     "text": [
      "Creating instance\n",
      "Creating instance\n",
      "Guilherme | saldo: 23.55\n",
      "Creating instance\n",
      "Caetano | saldo: 10.05\n",
      "Dalvan | saldo: 12.45\n",
      "Saldo: 21.17\n",
      "instancias: 3\n"
     ]
    }
   ],
   "source": [
    "class ContaBancaria():\n",
    "\n",
    "    contas = 0\n",
    "    @classmethod\n",
    "    def inc_inst(cls):\n",
    "        cls.contas += 1\n",
    "        print(\"Creating instance\")\n",
    "\n",
    "    def __init__(self, numero, nome, _saldo, tipo):\n",
    "        ContaBancaria.inc_inst()\n",
    "        self.numero = numero\n",
    "        self.nome = nome\n",
    "        self._saldo = _saldo\n",
    "        self.tipo = tipo\n",
    "        \n",
    "\n",
    "    def deposito(self, qtd):\n",
    "        self._saldo += qtd \n",
    "    \n",
    "    def saque(self, qtd):\n",
    "        self._saldo -= qtd\n",
    "    \n",
    "    def saldo(self):\n",
    "        return self._saldo\n",
    "    \n",
    "    def __str__(self):\n",
    "        return self.nome + \" | saldo: \" + str(self._saldo)\n",
    "    \n",
    "    @staticmethod\n",
    "    def funcao_estatica():\n",
    "        print(\"func_stat\")\n",
    "    \n",
    "conta1 = ContaBancaria('001', 'Caetano', 10.05, 'corrente')\n",
    "conta2 = ContaBancaria('002', 'Guilherme', 23.55, 'poupança')\n",
    "print(conta2)\n",
    "conta3 = ContaBancaria('003', 'Dalvan', 12.45, 'investimento')\n",
    "print(conta1)\n",
    "print(conta3)\n",
    "conta1.deposito(44.45)\n",
    "conta1.saque(33.33)\n",
    "print('Saldo:', conta1.saldo())\n",
    "print(f\"instancias: {ContaBancaria.contas}\")"
   ]
  },
  {
   "attachments": {},
   "cell_type": "markdown",
   "metadata": {},
   "source": [
    "O objetivo é estender a classe `ContaBancaria` fornecendo três Subclasses (`ContaDeposito`, `ContaCorrente`, `ContaInvestimento`)\n",
    "1. `ContaCorrente` precisa ter um limite de saque e redefinir o método para sacar do dinheiro. Este método precisa tratar se o saque for maior que o saldo.\n",
    "2. `ContaDeposito` precisa ter uma taxa de juros associado \n",
    "3. `ContaInvestimento` precisa ter um atributo que identifica o tipo de investimento (ex. baixo risco e alto risco)\n",
    "4. Testar o funcionamento"
   ]
  },
  {
   "cell_type": "code",
   "execution_count": 7,
   "metadata": {},
   "outputs": [],
   "source": [
    "class ContaDeposito(ContaBancaria):\n",
    "    def __init__(self, numero, nome, _saldo, juros, tipo=\"Deposito\"):\n",
    "        super().__init__(numero, nome, _saldo, tipo)\n",
    "        self.juros=juros\n",
    "    \n",
    "    def depositar(self, deposito):\n",
    "        self._saldo += deposito\n",
    "        return self._saldo\n",
    "    \n",
    "\n",
    "class ContaCorrente(ContaBancaria):\n",
    "    def __init__(self, numero, nome, _saldo, tipo=\"Corrente\"):\n",
    "        super().__init__(numero, nome, _saldo, tipo)\n",
    "\n",
    "    def saque(self, saque):\n",
    "        if saque > self._saldo:\n",
    "            return \"Not possible to withdraw\"\n",
    "        else:\n",
    "            self._saldo -= saque\n",
    "            return \"Saque realizado\"\n",
    "\n",
    "    def __str__(self):\n",
    "        return super().__str__() + \" this is: Conta Corrente\"\n",
    "    \n",
    "class ContaInvestimento(ContaBancaria):\n",
    "    def __init__(self, numero, nome, _saldo, tipo=\"Investimento\"):\n",
    "        super().__init__(numero, nome, _saldo, tipo)"
   ]
  },
  {
   "cell_type": "code",
   "execution_count": 8,
   "metadata": {},
   "outputs": [
    {
     "name": "stdout",
     "output_type": "stream",
     "text": [
      "Creating instance\n",
      "Jorge | saldo: 69 this is: Conta Corrente\n"
     ]
    }
   ],
   "source": [
    "contajorge = ContaCorrente(\"001\", \"Jorge\", 69)\n",
    "print(contajorge)"
   ]
  },
  {
   "cell_type": "code",
   "execution_count": 13,
   "metadata": {},
   "outputs": [
    {
     "name": "stdout",
     "output_type": "stream",
     "text": [
      "Not possible to withdraw\n",
      "15\n"
     ]
    }
   ],
   "source": [
    "print(contajorge.saque(18))\n",
    "print(contajorge.saldo())"
   ]
  },
  {
   "cell_type": "code",
   "execution_count": null,
   "metadata": {},
   "outputs": [],
   "source": []
  }
 ],
 "metadata": {
  "kernelspec": {
   "display_name": "Python 3",
   "language": "python",
   "name": "python3"
  },
  "language_info": {
   "codemirror_mode": {
    "name": "ipython",
    "version": 3
   },
   "file_extension": ".py",
   "mimetype": "text/x-python",
   "name": "python",
   "nbconvert_exporter": "python",
   "pygments_lexer": "ipython3",
   "version": "3.9.6"
  },
  "orig_nbformat": 4,
  "vscode": {
   "interpreter": {
    "hash": "31f2aee4e71d21fbe5cf8b01ff0e069b9275f58929596ceb00d14d90e3e16cd6"
   }
  }
 },
 "nbformat": 4,
 "nbformat_minor": 2
}
