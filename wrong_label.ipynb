{
 "cells": [
  {
   "cell_type": "code",
   "execution_count": 624,
   "metadata": {},
   "outputs": [],
   "source": [
    "import numpy as np\n",
    "from tqdm import tqdm\n",
    "import matplotlib.pyplot as plt\n",
    "\n",
    "import torch\n",
    "from torch import nn\n",
    "from torch.utils.data import DataLoader\n",
    "from torchvision import datasets\n",
    "from torchvision.transforms import ToTensor\n",
    "\n",
    "%matplotlib inline\n",
    "np.random.seed(123)"
   ]
  },
  {
   "cell_type": "code",
   "execution_count": 625,
   "metadata": {},
   "outputs": [
    {
     "name": "stdout",
     "output_type": "stream",
     "text": [
      "tensor(0.)\n",
      "tensor(1.)\n",
      "6265\n"
     ]
    }
   ],
   "source": [
    "#Data split \n",
    "# Download training data from open datasets.\n",
    "\n",
    "training_data = datasets.MNIST(\n",
    "    root=\"data\",\n",
    "    train=True,\n",
    "    download=True,\n",
    "    transform=ToTensor()\n",
    ")\n",
    "\n",
    "# Download test data from open datasets.\n",
    "test_data = datasets.MNIST(\n",
    "    root=\"data\",\n",
    "    train=False,\n",
    "    download=True,\n",
    "    transform=ToTensor()\n",
    ")\n",
    "\n",
    "batch_size = 64\n",
    "sete_set = [x for x, y in training_data if y == 7]\n",
    "test_sete_set = [x for x, y in test_data if y == 7]\n",
    "\n",
    "# print(len(sete_set))\n",
    "# print(len(test_sete_set))\n",
    "#test_sete_set = np.array(test_sete_set).astype(np.float32)\n",
    "#sete_set = np.array(sete_set).astype(np.float32)\n",
    "\n",
    "test_sete_dataloader = DataLoader(test_sete_set, batch_size=batch_size)\n",
    "sete_dataloader = DataLoader(sete_set, batch_size=batch_size)\n",
    "\n",
    "a = next(iter(sete_dataloader))\n",
    "print(torch.min(a[0, :]))\n",
    "print(torch.max(a[0, :]))\n",
    "\n",
    "print(len(sete_dataloader.dataset))"
   ]
  },
  {
   "cell_type": "code",
   "execution_count": 626,
   "metadata": {},
   "outputs": [],
   "source": [
    "class AutoEncoder(nn.Module):\n",
    "    def __init__(self):\n",
    "        super().__init__()\n",
    "        self.flatten = nn.Flatten()\n",
    "\n",
    "        self.encoder = nn.Sequential(\n",
    "            nn.Linear(28*28, 256),\n",
    "            nn.LeakyReLU(),\n",
    "            nn.Linear(256, 128),\n",
    "            nn.LeakyReLU(),\n",
    "            nn.Linear(128, 64),\n",
    "            nn.LeakyReLU(),\n",
    "            nn.Linear(64, 10)\n",
    "        )\n",
    "\n",
    "        self.decoder = nn.Sequential(\n",
    "            nn.Linear(10, 64),\n",
    "            nn.LeakyReLU(),\n",
    "            nn.Linear(64, 128),\n",
    "            nn.LeakyReLU(),\n",
    "            nn.Linear(128, 256),\n",
    "            nn.LeakyReLU(),\n",
    "            nn.Linear(256, 28*28),\n",
    "            nn.Sigmoid()\n",
    "        )\n",
    "\n",
    "\n",
    "    def forward(self, x):\n",
    "        flat_x = self.flatten(x)\n",
    "        latente = self.encoder(flat_x)\n",
    "        pred = self.decoder(latente)\n",
    "\n",
    "        return pred\n",
    "    \n",
    "        #self.lay = 6\n",
    "        #self.decoder.apply(self._init_enc_weights)\n",
    "        #self.encoder.apply(self._init_dec_weights)\n",
    "     \n",
    "        # print(self.encoder)\n",
    "        # print(self.decoder)    \n",
    "        # print(self.encoder[0].weight.data[:2,:2])\n",
    "        # print(self.decoder[6].weight.data[:2,:2].T)\n",
    "        # print(self.encoder[2].weight.data[:2,:2])\n",
    "        # print(self.decoder[4].weight.data[:2,:2].T)\n",
    "        # print(self.encoder[4].weight.data[:2,:2])\n",
    "        # print(self.decoder[2].weight.data[:2,:2].T)\n",
    "        # print(self.encoder[6].weight.data[:2,:2])\n",
    "        # print(self.decoder[0].weight.data[:2,:2].T)\n",
    "\n",
    "\n",
    "    # def _init_enc_weights(self, module):\n",
    "\n",
    "    #     if isinstance(module, nn.Linear):\n",
    "    #         module.weight.data = nn.init.xavier_uniform_(module.weight.data)\n",
    "\n",
    "    #         if module.bias is not None:\n",
    "    #             module.bias.data.zero_()\n",
    "\n",
    "            #print(module.weight.data[:2, :2])\n",
    "\n",
    "\n",
    "    # def _init_dec_weights(self, module):\n",
    "\n",
    "    #     if isinstance(module, nn.Linear):\n",
    "    #         #print(module)\n",
    "    #         module.weight.data = self.decoder[self.lay].weight.T\n",
    "            \n",
    "    #         if module.bias is not None:\n",
    "    #             module.bias.data.zero_()\n",
    "\n",
    "    #         # print(module.weight.data.shape)\n",
    "    #         # print(module.weight.data[:2, :2].T)\n",
    "    #         self.lay -= 2\n"
   ]
  },
  {
   "cell_type": "code",
   "execution_count": 627,
   "metadata": {},
   "outputs": [],
   "source": [
    "class CNNAutoEncoder(nn.Module):\n",
    "    def __init__(self):\n",
    "        super().__init__()\n",
    "        \n",
    "        self.encoder = nn.Sequential(\n",
    "            nn.Conv2d(1, 16, 3, stride=2, padding=1), #16, 14, 14\n",
    "            nn.ReLU(),\n",
    "            nn.Conv2d(16, 32, 3, stride=2, padding=1), # 32, 7, 7\n",
    "            nn.ReLU(),\n",
    "            nn.Conv2d(32, 64, 7) # 64, 1, 1\n",
    "        )\n",
    "\n",
    "        self.decoder = nn.Sequential(\n",
    "            nn.ConvTranspose2d(64, 32, 7), # 32, 7, 7\n",
    "            nn.ReLU(),\n",
    "            nn.ConvTranspose2d(32, 16, 3, stride=2, padding=1, output_padding=1), # 16, 14, 14\n",
    "            nn.ReLU(),\n",
    "            nn.ConvTranspose2d(16, 1, 3, stride=2, padding=1, output_padding=1), # N, 1, 28, 28\n",
    "            nn.Sigmoid()\n",
    "        )\n",
    "\n",
    "    def forward(self, x):\n",
    "        encoded = self.encoder(x)\n",
    "        reconst = self.decoder(encoded)\n",
    "\n",
    "        return reconst"
   ]
  },
  {
   "cell_type": "code",
   "execution_count": 628,
   "metadata": {},
   "outputs": [
    {
     "name": "stdout",
     "output_type": "stream",
     "text": [
      "using mps device\n"
     ]
    }
   ],
   "source": [
    "loss = nn.MSELoss()\n",
    "\n",
    "device = \"cuda\" if torch.cuda.is_available() else \"mps\" if torch.backends.mps.is_available() else \"cpu\" \n",
    "print(f\"using {device} device\")\n",
    " \n",
    "model_7 = AutoEncoder().to(device=device)\n",
    "CNN_model_7 = CNNAutoEncoder().to(device=device)\n",
    "learning_rate = 1e-3\n",
    "cnn_optm = torch.optim.Adam(CNN_model_7.parameters(), lr=learning_rate)\n",
    "optm = torch.optim.Adam(model_7.parameters(), lr=learning_rate)"
   ]
  },
  {
   "cell_type": "code",
   "execution_count": 629,
   "metadata": {},
   "outputs": [],
   "source": [
    "def train(data, model, loss_fn, opt, cnn=False):\n",
    "\n",
    "    #pega data\n",
    "    for X in tqdm(data):\n",
    "        X = X.to(device=device)\n",
    "        pred = model(X)\n",
    "        if not cnn: X = torch.reshape(X, (X.shape[0], 28*28))\n",
    "        loss = loss_fn(pred, X)\n",
    "        \n",
    "        opt.zero_grad()\n",
    "        loss.backward()\n",
    "        opt.step()\n",
    "\n",
    "\n",
    "def test(data, model, loss_fn, cnn=False):\n",
    "\n",
    "    num_batches = len(data)\n",
    "    loss = 0\n",
    "    model.eval()\n",
    "\n",
    "    with torch.no_grad():\n",
    "        for X in data:\n",
    "            X = X.to(device=device)\n",
    "            if not cnn: X = torch.reshape(X, (X.shape[0], 28*28))\n",
    "            pred = model(X)\n",
    "            loss += loss_fn(pred, X).item()\n",
    "        \n",
    "        loss /= num_batches\n",
    "\n",
    "    print(f\"Loss: {loss:.5f}\")\n"
   ]
  },
  {
   "cell_type": "code",
   "execution_count": 630,
   "metadata": {},
   "outputs": [
    {
     "name": "stderr",
     "output_type": "stream",
     "text": [
      "100%|██████████| 98/98 [00:01<00:00, 89.06it/s]\n"
     ]
    },
    {
     "name": "stdout",
     "output_type": "stream",
     "text": [
      "Loss: 0.04629\n"
     ]
    },
    {
     "name": "stderr",
     "output_type": "stream",
     "text": [
      "100%|██████████| 98/98 [00:00<00:00, 98.94it/s] \n"
     ]
    },
    {
     "name": "stdout",
     "output_type": "stream",
     "text": [
      "Loss: 0.03963\n"
     ]
    },
    {
     "name": "stderr",
     "output_type": "stream",
     "text": [
      "100%|██████████| 98/98 [00:00<00:00, 107.17it/s]\n"
     ]
    },
    {
     "name": "stdout",
     "output_type": "stream",
     "text": [
      "Loss: 0.02876\n"
     ]
    },
    {
     "name": "stderr",
     "output_type": "stream",
     "text": [
      "100%|██████████| 98/98 [00:00<00:00, 110.50it/s]\n"
     ]
    },
    {
     "name": "stdout",
     "output_type": "stream",
     "text": [
      "Loss: 0.02619\n"
     ]
    },
    {
     "name": "stderr",
     "output_type": "stream",
     "text": [
      "100%|██████████| 98/98 [00:00<00:00, 109.28it/s]\n"
     ]
    },
    {
     "name": "stdout",
     "output_type": "stream",
     "text": [
      "Loss: 0.02481\n"
     ]
    },
    {
     "name": "stderr",
     "output_type": "stream",
     "text": [
      "100%|██████████| 98/98 [00:00<00:00, 109.55it/s]\n"
     ]
    },
    {
     "name": "stdout",
     "output_type": "stream",
     "text": [
      "Loss: 0.02192\n"
     ]
    },
    {
     "name": "stderr",
     "output_type": "stream",
     "text": [
      "100%|██████████| 98/98 [00:00<00:00, 110.52it/s]\n"
     ]
    },
    {
     "name": "stdout",
     "output_type": "stream",
     "text": [
      "Loss: 0.02090\n"
     ]
    },
    {
     "name": "stderr",
     "output_type": "stream",
     "text": [
      "100%|██████████| 98/98 [00:00<00:00, 108.56it/s]\n"
     ]
    },
    {
     "name": "stdout",
     "output_type": "stream",
     "text": [
      "Loss: 0.01940\n"
     ]
    },
    {
     "name": "stderr",
     "output_type": "stream",
     "text": [
      "100%|██████████| 98/98 [00:00<00:00, 105.07it/s]\n"
     ]
    },
    {
     "name": "stdout",
     "output_type": "stream",
     "text": [
      "Loss: 0.01801\n"
     ]
    },
    {
     "name": "stderr",
     "output_type": "stream",
     "text": [
      "100%|██████████| 98/98 [00:00<00:00, 107.72it/s]\n"
     ]
    },
    {
     "name": "stdout",
     "output_type": "stream",
     "text": [
      "Loss: 0.01738\n"
     ]
    },
    {
     "name": "stderr",
     "output_type": "stream",
     "text": [
      "100%|██████████| 98/98 [00:00<00:00, 108.73it/s]\n"
     ]
    },
    {
     "name": "stdout",
     "output_type": "stream",
     "text": [
      "Loss: 0.01698\n"
     ]
    },
    {
     "name": "stderr",
     "output_type": "stream",
     "text": [
      "100%|██████████| 98/98 [00:00<00:00, 110.36it/s]\n"
     ]
    },
    {
     "name": "stdout",
     "output_type": "stream",
     "text": [
      "Loss: 0.01666\n"
     ]
    },
    {
     "name": "stderr",
     "output_type": "stream",
     "text": [
      "100%|██████████| 98/98 [00:00<00:00, 109.12it/s]\n"
     ]
    },
    {
     "name": "stdout",
     "output_type": "stream",
     "text": [
      "Loss: 0.01639\n"
     ]
    },
    {
     "name": "stderr",
     "output_type": "stream",
     "text": [
      "100%|██████████| 98/98 [00:01<00:00, 97.02it/s] \n"
     ]
    },
    {
     "name": "stdout",
     "output_type": "stream",
     "text": [
      "Loss: 0.01606\n"
     ]
    },
    {
     "name": "stderr",
     "output_type": "stream",
     "text": [
      "100%|██████████| 98/98 [00:00<00:00, 98.58it/s] "
     ]
    },
    {
     "name": "stdout",
     "output_type": "stream",
     "text": [
      "Loss: 0.01568\n"
     ]
    },
    {
     "name": "stderr",
     "output_type": "stream",
     "text": [
      "\n"
     ]
    }
   ],
   "source": [
    "epochs = 15\n",
    "\n",
    "for i in range(epochs):\n",
    "    train(sete_dataloader, model_7, loss, opt=optm)\n",
    "    test(test_sete_dataloader, model_7, loss)\n",
    "    "
   ]
  },
  {
   "cell_type": "code",
   "execution_count": 631,
   "metadata": {},
   "outputs": [
    {
     "name": "stderr",
     "output_type": "stream",
     "text": [
      "100%|██████████| 98/98 [00:02<00:00, 43.56it/s]\n"
     ]
    },
    {
     "name": "stdout",
     "output_type": "stream",
     "text": [
      "Loss: 0.04786\n"
     ]
    },
    {
     "name": "stderr",
     "output_type": "stream",
     "text": [
      "100%|██████████| 98/98 [00:00<00:00, 120.96it/s]\n"
     ]
    },
    {
     "name": "stdout",
     "output_type": "stream",
     "text": [
      "Loss: 0.04625\n"
     ]
    },
    {
     "name": "stderr",
     "output_type": "stream",
     "text": [
      "100%|██████████| 98/98 [00:00<00:00, 125.96it/s]\n"
     ]
    },
    {
     "name": "stdout",
     "output_type": "stream",
     "text": [
      "Loss: 0.03115\n"
     ]
    },
    {
     "name": "stderr",
     "output_type": "stream",
     "text": [
      "100%|██████████| 98/98 [00:00<00:00, 126.77it/s]\n"
     ]
    },
    {
     "name": "stdout",
     "output_type": "stream",
     "text": [
      "Loss: 0.01777\n"
     ]
    },
    {
     "name": "stderr",
     "output_type": "stream",
     "text": [
      "100%|██████████| 98/98 [00:00<00:00, 126.82it/s]\n"
     ]
    },
    {
     "name": "stdout",
     "output_type": "stream",
     "text": [
      "Loss: 0.01256\n"
     ]
    },
    {
     "name": "stderr",
     "output_type": "stream",
     "text": [
      "100%|██████████| 98/98 [00:00<00:00, 125.61it/s]\n"
     ]
    },
    {
     "name": "stdout",
     "output_type": "stream",
     "text": [
      "Loss: 0.01001\n"
     ]
    },
    {
     "name": "stderr",
     "output_type": "stream",
     "text": [
      "100%|██████████| 98/98 [00:00<00:00, 114.49it/s]\n"
     ]
    },
    {
     "name": "stdout",
     "output_type": "stream",
     "text": [
      "Loss: 0.00870\n"
     ]
    },
    {
     "name": "stderr",
     "output_type": "stream",
     "text": [
      "100%|██████████| 98/98 [00:00<00:00, 124.78it/s]\n"
     ]
    },
    {
     "name": "stdout",
     "output_type": "stream",
     "text": [
      "Loss: 0.00763\n"
     ]
    },
    {
     "name": "stderr",
     "output_type": "stream",
     "text": [
      "100%|██████████| 98/98 [00:00<00:00, 124.71it/s]\n"
     ]
    },
    {
     "name": "stdout",
     "output_type": "stream",
     "text": [
      "Loss: 0.00681\n"
     ]
    },
    {
     "name": "stderr",
     "output_type": "stream",
     "text": [
      "100%|██████████| 98/98 [00:00<00:00, 124.66it/s]\n"
     ]
    },
    {
     "name": "stdout",
     "output_type": "stream",
     "text": [
      "Loss: 0.00618\n"
     ]
    },
    {
     "name": "stderr",
     "output_type": "stream",
     "text": [
      "100%|██████████| 98/98 [00:00<00:00, 123.86it/s]\n"
     ]
    },
    {
     "name": "stdout",
     "output_type": "stream",
     "text": [
      "Loss: 0.00567\n"
     ]
    },
    {
     "name": "stderr",
     "output_type": "stream",
     "text": [
      "100%|██████████| 98/98 [00:00<00:00, 125.41it/s]\n"
     ]
    },
    {
     "name": "stdout",
     "output_type": "stream",
     "text": [
      "Loss: 0.00525\n"
     ]
    },
    {
     "name": "stderr",
     "output_type": "stream",
     "text": [
      "100%|██████████| 98/98 [00:00<00:00, 124.64it/s]\n"
     ]
    },
    {
     "name": "stdout",
     "output_type": "stream",
     "text": [
      "Loss: 0.00493\n"
     ]
    },
    {
     "name": "stderr",
     "output_type": "stream",
     "text": [
      "100%|██████████| 98/98 [00:00<00:00, 120.25it/s]\n"
     ]
    },
    {
     "name": "stdout",
     "output_type": "stream",
     "text": [
      "Loss: 0.00467\n"
     ]
    },
    {
     "name": "stderr",
     "output_type": "stream",
     "text": [
      "100%|██████████| 98/98 [00:00<00:00, 125.75it/s]\n"
     ]
    },
    {
     "name": "stdout",
     "output_type": "stream",
     "text": [
      "Loss: 0.00446\n"
     ]
    }
   ],
   "source": [
    "epochs = 15\n",
    "outputs = []\n",
    "for i in range(epochs):\n",
    "    train(sete_dataloader, CNN_model_7, loss, opt=cnn_optm, cnn=True)\n",
    "    test(test_sete_dataloader, CNN_model_7, loss, cnn=True)"
   ]
  },
  {
   "cell_type": "code",
   "execution_count": 632,
   "metadata": {},
   "outputs": [],
   "source": [
    "def plot_img(x):\n",
    "    try:\n",
    "        x = x.cpu().detach().numpy().reshape(28,28)\n",
    "    except AttributeError:\n",
    "        x = x.reshape(-1, 28)\n",
    "\n",
    "    #plt.plot([:28], [:28])\n",
    "    plt.imshow(x, cmap='gray')\n",
    "    plt.show()\n",
    "    #plt.savefig(f'{i}.png')\n",
    "    plt.close()"
   ]
  },
  {
   "cell_type": "code",
   "execution_count": 635,
   "metadata": {},
   "outputs": [
    {
     "data": {
      "image/png": "[encoded data removed]",
      "text/plain": [
       "<Figure size 1800x900 with 50 Axes>"
      ]
     },
     "metadata": {},
     "output_type": "display_data"
    }
   ],
   "source": [
    "num_max_errors = 50\n",
    "errors = []\n",
    "max_error = 0\n",
    "pred_max_err = []\n",
    "X_max_err = []\n",
    "\n",
    "\n",
    "for j, X in enumerate(sete_dataloader):\n",
    "    X = X.to(device)\n",
    "    mean = 0\n",
    "    pred = CNN_model_7(X)\n",
    "    #X = torch.reshape(X, (X.shape[0], 28*28))\n",
    "\n",
    "    for i in range(pred.shape[0]):\n",
    "        l = loss(pred[i, :], X[i, :]).item()\n",
    "        errors.append(l)\n",
    "        \n",
    "        if l > max_error:\n",
    "            max_error = l\n",
    "            pred_max_err = pred[i, :]\n",
    "            X_max_err = X[i, :]\n",
    "\n",
    "\n",
    "rrors = np.array(errors)\n",
    "sort_err = np.argsort(errors)\n",
    "\n",
    "max_loss = sort_err[-50:]\n",
    "fig, axes = plt.subplots(nrows=5, ncols=10, figsize=(18,9))\n",
    "for i, ax in enumerate(axes.flatten()):\n",
    "    idx = max_loss[i]\n",
    "    ax.set_title(f\"{rrors[idx]:.2f}\")\n",
    "    ax.imshow(sete_set[idx].reshape(-1, 28), cmap=\"gray\")\n",
    "    ax.axis(\"off\")"
   ]
  },
  {
   "cell_type": "code",
   "execution_count": 636,
   "metadata": {},
   "outputs": [
    {
     "data": {
      "image/png": "[encoded data removed]",
      "text/plain": [
       "<Figure size 1800x900 with 50 Axes>"
      ]
     },
     "metadata": {},
     "output_type": "display_data"
    }
   ],
   "source": [
    "num_max_errors = 50\n",
    "errors = []\n",
    "max_error = 0\n",
    "pred_max_err = []\n",
    "X_max_err = []\n",
    "\n",
    "\n",
    "for j, X in enumerate(sete_dataloader):\n",
    "    X = X.to(device)\n",
    "    mean = 0\n",
    "    pred = model_7(X)\n",
    "    X = torch.reshape(X, (X.shape[0], 28*28))\n",
    "\n",
    "    for i in range(pred.shape[0]):\n",
    "        l = loss(pred[i, :], X[i, :]).item()\n",
    "        errors.append(l)\n",
    "        \n",
    "        if l > max_error:\n",
    "            max_error = l\n",
    "            pred_max_err = pred[i, :]\n",
    "            X_max_err = X[i, :]\n",
    "\n",
    "\n",
    "rrors = np.array(errors)\n",
    "sort_err = np.argsort(errors)\n",
    "\n",
    "max_loss = sort_err[-50:]\n",
    "fig, axes = plt.subplots(nrows=5, ncols=10, figsize=(18,9))\n",
    "for i, ax in enumerate(axes.flatten()):\n",
    "    idx = max_loss[i]\n",
    "    ax.set_title(f\"{rrors[idx]:.2f}\")\n",
    "    ax.imshow(sete_set[idx].reshape(-1, 28), cmap=\"gray\")\n",
    "    ax.axis(\"off\")"
   ]
  },
  {
   "cell_type": "code",
   "execution_count": 637,
   "metadata": {},
   "outputs": [
    {
     "data": {
      "image/png": "[encoded data removed]",
      "text/plain": [
       "<Figure size 640x480 with 1 Axes>"
      ]
     },
     "metadata": {},
     "output_type": "display_data"
    },
    {
     "data": {
      "image/png": "[encoded data removed]",
      "text/plain": [
       "<Figure size 640x480 with 1 Axes>"
      ]
     },
     "metadata": {},
     "output_type": "display_data"
    }
   ],
   "source": [
    "rrors[max_loss[-1]]\n",
    "plot_img(sete_set[max_loss[-1]])\n",
    "plot_img(pred_max_err)"
   ]
  },
  {
   "cell_type": "code",
   "execution_count": null,
   "metadata": {},
   "outputs": [
    {
     "name": "stdout",
     "output_type": "stream",
     "text": [
      "Parameter containing:\n",
      "tensor([[-9.7652e-02,  8.5723e-02,  1.1302e-01,  6.6762e-02,  1.0561e-01,\n",
      "         -4.7256e-02,  6.8632e-02,  7.4484e-02, -8.7838e-02, -1.8515e-02,\n",
      "         -7.4615e-02,  4.9231e-02, -3.6367e-03, -1.1560e-01,  3.0645e-03,\n",
      "         -8.0008e-02,  1.7046e-01, -3.6167e-02,  2.5975e-02,  1.7718e-02,\n",
      "         -1.2638e-01, -5.4732e-02,  1.2102e-03, -1.0730e-01,  1.4195e-01,\n",
      "          1.1776e-01, -1.1388e-01,  1.2779e-01, -1.2239e-01, -1.2197e-01,\n",
      "          8.7868e-02, -8.6333e-02, -1.0732e-01, -5.3030e-02, -5.0146e-02,\n",
      "          1.1926e-01, -1.0699e-01,  1.5213e-01, -1.5647e-02,  8.6523e-02,\n",
      "         -6.4084e-02, -6.4104e-02,  1.1752e-01, -2.0226e-02,  8.9086e-02,\n",
      "         -1.5637e-01, -4.9401e-02,  2.4196e-02,  1.1436e-01, -5.4460e-02,\n",
      "         -7.6561e-02,  1.7115e-02,  5.1026e-03,  1.6435e-02, -2.8568e-02,\n",
      "          3.2646e-02,  3.9200e-02, -5.2670e-04,  1.7062e-02, -7.9570e-02,\n",
      "          4.1922e-02, -6.7473e-02,  1.0274e-01, -1.3200e-02],\n",
      "        [-7.0897e-02, -5.7880e-03, -1.0949e-01, -1.0959e-01,  5.9917e-02,\n",
      "          8.4132e-02,  1.4325e-01,  1.2912e-01, -1.4420e-01,  2.0867e-03,\n",
      "          1.6775e-02,  9.6267e-02, -2.4753e-02,  1.5512e-01, -1.0050e-01,\n",
      "         -1.2505e-02,  6.5607e-02, -6.5157e-02, -6.1207e-02,  6.6263e-02,\n",
      "          5.3138e-02, -1.0410e-01, -1.0271e-01,  8.0212e-02,  4.3827e-02,\n",
      "         -2.0837e-02,  1.1208e-01, -2.5064e-03, -8.9870e-02,  3.3636e-02,\n",
      "         -7.2974e-02,  9.3982e-03, -5.0692e-02, -3.7372e-02, -1.0793e-01,\n",
      "         -9.9536e-02,  2.6210e-02,  1.5251e-02,  1.0634e-01, -4.2044e-02,\n",
      "         -1.3278e-01,  3.9801e-02, -4.8533e-02, -2.0308e-03, -8.6376e-02,\n",
      "          5.3102e-02, -1.2465e-01, -7.7196e-02, -8.1795e-02,  8.4487e-02,\n",
      "          1.0347e-02, -1.0134e-01, -1.1271e-01,  8.5786e-02, -8.6732e-02,\n",
      "         -2.8794e-02,  2.8139e-02,  1.0439e-02, -1.0887e-01, -1.3498e-01,\n",
      "          3.9667e-02, -2.0808e-02,  1.4715e-01,  7.3211e-02],\n",
      "        [ 4.6025e-02,  2.0256e-02, -4.1876e-02, -8.0328e-02,  8.1848e-02,\n",
      "          1.1481e-01, -8.1041e-03,  3.4625e-02,  1.2377e-01, -1.1982e-02,\n",
      "         -6.8209e-02,  1.0008e-02,  1.3674e-01,  2.3810e-02, -9.8404e-02,\n",
      "          1.2286e-01, -5.1493e-02,  1.0032e-01,  7.3929e-02,  1.7523e-01,\n",
      "          6.7554e-03, -1.4724e-02, -6.5158e-02,  6.8056e-02,  3.6465e-02,\n",
      "          1.1309e-01,  1.4964e-01, -1.0694e-01, -9.1273e-02,  2.8389e-03,\n",
      "          8.1486e-02,  2.3412e-02,  2.7664e-02, -8.0750e-02,  1.5943e-03,\n",
      "          1.0224e-01, -4.3050e-02, -6.1803e-02,  8.2366e-03,  6.6431e-02,\n",
      "          1.6762e-02,  3.5537e-02, -1.8422e-02,  1.4636e-01,  5.5298e-02,\n",
      "         -5.2630e-02, -1.9952e-01,  1.3146e-01, -1.0671e-01,  3.1083e-02,\n",
      "          8.2555e-02,  5.3578e-02,  5.3363e-02,  1.6212e-01, -4.2031e-02,\n",
      "          9.9439e-02,  1.6258e-01, -2.8720e-02, -9.0320e-02, -8.6581e-02,\n",
      "          1.9331e-02, -3.0891e-02, -8.7074e-02, -3.7133e-03],\n",
      "        [-2.1071e-02, -5.1111e-02, -1.2166e-02, -5.5583e-03,  4.2237e-03,\n",
      "         -4.6103e-02,  6.1382e-02, -7.4730e-02,  1.4428e-01, -7.7230e-02,\n",
      "         -3.7243e-02,  6.1380e-02, -7.0875e-02, -1.3227e-01, -7.9597e-03,\n",
      "         -1.1984e-01, -1.6112e-01,  1.4328e-01,  7.2444e-02,  6.2263e-02,\n",
      "          8.2075e-02, -1.0057e-01, -5.3890e-02, -7.5558e-02, -1.3779e-01,\n",
      "         -1.3454e-03, -1.4868e-02,  9.1893e-02, -1.1942e-01,  8.5861e-02,\n",
      "          1.1765e-01, -1.0763e-01,  4.1866e-02,  8.6367e-02, -1.2940e-01,\n",
      "          2.2183e-03,  5.9324e-02,  1.0272e-01,  1.5064e-01,  1.2776e-01,\n",
      "          1.2791e-01,  1.8730e-02,  7.5501e-02,  8.5450e-02,  3.3521e-02,\n",
      "         -7.2892e-02, -2.9767e-02,  8.6472e-02, -6.8955e-02, -2.4661e-02,\n",
      "          9.3380e-02, -7.5020e-02,  1.1639e-01, -8.8601e-03,  1.0109e-01,\n",
      "          6.3336e-02, -2.9258e-02, -3.0964e-02, -5.2162e-02,  3.3148e-02,\n",
      "         -4.6673e-02,  1.7668e-02, -1.0798e-01,  3.8301e-02],\n",
      "        [ 1.7314e-01, -8.1045e-02, -6.7763e-02, -6.8426e-02, -6.0729e-02,\n",
      "          9.4398e-02, -5.0779e-02,  6.2174e-02, -1.5347e-01, -5.4087e-02,\n",
      "         -7.8053e-02, -2.5011e-02, -3.3179e-02, -1.0371e-03,  2.3468e-02,\n",
      "          1.8228e-02,  6.8523e-02, -1.2617e-04,  8.8164e-02, -1.2165e-01,\n",
      "          6.8784e-02, -1.1743e-01, -1.7463e-02,  1.2675e-01, -4.7683e-02,\n",
      "         -1.9530e-02, -2.3876e-02, -1.0614e-01,  6.2131e-02, -2.1645e-02,\n",
      "         -1.2014e-01, -7.8212e-02, -1.9929e-02, -4.4739e-02,  7.3393e-02,\n",
      "          5.2306e-03, -1.2056e-01, -7.0347e-02, -1.1220e-01, -1.2764e-01,\n",
      "         -5.1251e-02, -7.3950e-02,  5.4244e-02, -1.0841e-01, -2.9510e-03,\n",
      "         -4.6906e-02,  1.7808e-01, -4.8437e-02, -1.1523e-01, -3.8253e-02,\n",
      "         -7.2321e-02,  1.5300e-02, -3.8412e-02,  3.8443e-02,  6.6821e-03,\n",
      "         -1.5688e-01, -1.5201e-01, -4.2463e-04, -4.3324e-03, -1.6192e-01,\n",
      "          8.3764e-02,  1.1570e-01,  1.9276e-03,  8.7349e-02],\n",
      "        [-2.6257e-02, -5.6717e-02,  9.7692e-02,  1.1207e-02, -1.0425e-03,\n",
      "         -4.7804e-02,  8.4385e-02, -3.3946e-02,  5.7528e-02, -1.0177e-01,\n",
      "          2.6298e-02,  4.9455e-02,  8.9570e-02,  2.6919e-02, -1.3007e-01,\n",
      "          7.3654e-02,  8.2450e-02,  2.6878e-02,  1.2820e-01,  1.5889e-01,\n",
      "         -8.0671e-02, -1.4084e-01,  1.3081e-01, -5.6408e-02, -6.4398e-02,\n",
      "         -7.2204e-02,  6.4655e-02, -8.4799e-02, -8.2868e-02,  5.9083e-02,\n",
      "          7.2465e-02, -8.5451e-02, -7.5792e-02, -1.2715e-01, -7.8933e-02,\n",
      "         -4.6218e-02,  7.1400e-02,  8.4906e-02, -1.1083e-02,  7.5390e-03,\n",
      "         -1.2399e-01, -9.8224e-03, -4.9143e-02,  2.5646e-02, -1.0121e-01,\n",
      "         -8.4584e-02,  1.6456e-01,  1.2528e-02,  7.4851e-02,  8.7102e-02,\n",
      "          3.4662e-02,  4.8764e-02,  2.8557e-02, -7.0724e-02,  7.3774e-03,\n",
      "          6.0112e-02,  1.4260e-01,  6.0995e-02,  4.4805e-03, -5.4573e-02,\n",
      "         -8.2603e-02,  2.4878e-02,  5.4807e-02,  3.2252e-02],\n",
      "        [-1.6139e-01, -6.3146e-02,  4.0716e-02, -4.8443e-02,  2.9341e-02,\n",
      "         -2.0650e-03, -1.9357e-02, -1.0021e-01, -3.6640e-02,  9.6347e-02,\n",
      "         -5.4902e-02, -1.8665e-01,  1.3958e-01, -1.8383e-02,  5.0076e-02,\n",
      "         -2.8415e-02, -9.6332e-03,  1.5278e-01,  1.4121e-01, -1.7536e-01,\n",
      "         -8.8974e-02,  1.3631e-02, -1.3983e-01,  1.1449e-02,  5.1378e-02,\n",
      "          2.1792e-02, -1.1112e-01, -5.6455e-03,  1.5210e-01,  8.6602e-03,\n",
      "          6.9974e-02, -1.0381e-01,  2.4456e-02, -8.2188e-03, -7.4746e-02,\n",
      "         -4.5690e-02, -8.2629e-02,  1.2312e-01, -7.5635e-02,  1.0072e-01,\n",
      "          3.6930e-03,  1.1906e-01,  5.9711e-03,  1.1153e-01,  3.5298e-02,\n",
      "         -3.1344e-02, -9.4790e-02,  6.8336e-02, -1.2969e-01,  5.2763e-02,\n",
      "          8.1939e-02,  3.9771e-02, -8.9606e-02,  1.3208e-01, -1.0544e-01,\n",
      "          6.2653e-02, -3.2782e-02, -1.1739e-01,  1.3815e-01,  1.0086e-01,\n",
      "         -1.0317e-01,  4.8010e-02, -2.8573e-02,  5.0033e-02],\n",
      "        [ 1.0438e-01, -4.8227e-03, -6.3122e-02,  2.1727e-02, -7.6521e-02,\n",
      "          1.7873e-01,  1.8950e-01,  5.4097e-02,  3.9608e-02,  5.4445e-02,\n",
      "         -4.9657e-02, -6.6336e-02,  6.1826e-02, -8.3244e-03, -8.1936e-02,\n",
      "         -3.7849e-02, -7.5280e-02, -3.7928e-02, -6.8136e-02, -5.4073e-02,\n",
      "          1.6165e-02, -2.5281e-02,  7.0551e-02, -2.6304e-02, -9.2765e-02,\n",
      "         -9.3555e-02,  1.2365e-01, -1.0903e-01, -7.7754e-02,  9.5235e-02,\n",
      "          1.6798e-02,  3.8631e-02, -6.9997e-02, -8.6862e-02, -5.4515e-02,\n",
      "          1.6380e-01,  1.2449e-01,  6.4165e-03, -3.8267e-02, -1.4977e-01,\n",
      "          1.1619e-01, -1.1404e-01, -1.1656e-01, -6.5437e-02,  3.9188e-02,\n",
      "          9.0150e-02, -6.3330e-02,  1.4531e-02, -3.9871e-02,  7.7888e-02,\n",
      "          3.3228e-02, -1.3467e-01, -7.1844e-02, -1.0760e-01, -1.3111e-01,\n",
      "         -8.4275e-03,  2.1202e-02, -1.6709e-02, -3.7804e-03,  1.1340e-01,\n",
      "         -4.3943e-02, -2.1644e-02,  5.6159e-02, -9.6013e-02],\n",
      "        [ 3.8144e-02,  8.8282e-02,  8.5141e-02, -3.2525e-02,  1.1338e-01,\n",
      "         -1.0896e-01, -3.3651e-02,  4.3323e-03,  6.4697e-02,  8.9750e-02,\n",
      "          1.1058e-01, -4.1020e-02,  1.2930e-01,  5.1814e-02,  2.2757e-02,\n",
      "         -1.1579e-01, -2.2649e-02, -5.2926e-02,  1.3542e-01,  1.8889e-02,\n",
      "         -7.4779e-02,  1.2180e-01,  3.2200e-02,  1.1892e-02, -1.2141e-01,\n",
      "         -4.8167e-02, -3.7868e-02,  4.6098e-02,  1.2970e-01,  4.6665e-02,\n",
      "         -3.0317e-02,  7.2765e-02, -9.2616e-02,  9.4530e-02, -6.4072e-02,\n",
      "          4.7357e-02, -6.7548e-02,  7.2703e-03,  1.4366e-01, -3.5978e-02,\n",
      "          1.1675e-01,  7.6915e-02,  1.3408e-01,  9.8924e-02, -4.1138e-02,\n",
      "          3.8120e-02,  9.7027e-03, -3.8581e-02, -5.1440e-02, -1.6148e-01,\n",
      "         -4.5525e-02,  5.8865e-02,  9.4504e-02,  1.4452e-01,  1.3569e-01,\n",
      "          8.4101e-02,  2.4521e-02,  5.4001e-02, -1.0946e-01, -9.1299e-02,\n",
      "         -2.8054e-02, -9.5964e-02, -4.8972e-02, -8.5990e-02],\n",
      "        [ 6.7089e-02, -9.4808e-02, -5.9326e-02,  1.2787e-01, -4.9979e-02,\n",
      "         -9.4858e-02,  6.0778e-03,  7.7920e-02,  7.7912e-02, -8.6193e-02,\n",
      "         -1.0611e-01,  1.4361e-01,  6.1128e-02, -6.6427e-03,  1.3688e-01,\n",
      "          8.9557e-02, -3.7236e-02, -9.0709e-02,  1.3168e-01, -1.4011e-02,\n",
      "          3.1595e-02, -5.2720e-02,  1.0342e-01,  8.8241e-02, -5.1293e-02,\n",
      "          6.1476e-02,  2.3812e-02,  9.5762e-02,  1.4214e-02,  1.2002e-01,\n",
      "          2.1385e-02,  4.3004e-02,  5.1007e-02, -9.3087e-02, -3.0223e-02,\n",
      "         -4.5205e-03,  3.5496e-02, -1.4519e-01,  9.2226e-02,  7.7647e-02,\n",
      "         -1.6996e-02,  1.1601e-01,  4.5734e-02,  8.1969e-02,  4.6273e-03,\n",
      "          7.9911e-03,  3.4917e-02,  6.6564e-02, -1.1781e-01, -5.1755e-02,\n",
      "          3.1735e-02, -6.8495e-02,  7.2912e-02, -1.6517e-02, -2.1781e-02,\n",
      "          5.6098e-02, -7.3658e-02,  8.5282e-02, -9.3656e-02,  8.6801e-03,\n",
      "          5.4908e-02,  3.3344e-02,  1.5622e-01,  6.3085e-02]], device='mps:0',\n",
      "       requires_grad=True)\n",
      "tensor([[ 2.7881e-01, -1.8411e-01,  2.3366e-01,  2.8285e-01,  2.0850e-01,\n",
      "          2.0054e-01, -2.0582e-01,  2.1957e-01, -1.2643e-01, -1.2302e-01,\n",
      "         -2.2810e-01, -8.5529e-02, -1.9588e-01,  2.6603e-01, -7.6341e-02,\n",
      "          2.9451e-01, -6.6685e-02,  1.2306e-01,  3.1906e-01, -3.3553e-01,\n",
      "          1.9964e-01,  2.7563e-01, -3.4756e-02,  2.7641e-01,  2.9101e-01,\n",
      "          1.5032e-01, -2.7824e-02, -1.8100e-01, -1.8879e-02,  2.0119e-01,\n",
      "          9.5281e-02, -2.6098e-02, -2.2411e-01,  1.9731e-01,  1.8143e-01,\n",
      "          2.2056e-01,  2.1286e-01, -7.3427e-02,  3.2212e-01, -8.1483e-03,\n",
      "          2.1084e-01, -1.3148e-01, -1.9117e-01, -1.7856e-01,  2.9289e-01,\n",
      "         -3.9728e-02,  5.4700e-02,  4.5735e-02,  2.7144e-01,  1.2005e-01,\n",
      "         -2.1345e-01,  2.7161e-01, -2.1263e-01, -2.8670e-02, -8.5328e-03,\n",
      "          1.8834e-01,  3.8142e-02,  9.3767e-02, -1.1249e-01, -2.2758e-01,\n",
      "          3.5016e-02, -2.1782e-02,  1.4085e-01, -1.4016e-01],\n",
      "        [ 9.4812e-02, -2.8803e-01,  1.3117e-01,  2.1963e-01, -1.9943e-01,\n",
      "          9.7523e-03, -3.4641e-01,  2.5581e-01,  1.3719e-01, -2.5872e-01,\n",
      "          3.6443e-01,  3.2838e-02, -6.4736e-02, -2.6665e-01,  2.1909e-01,\n",
      "          3.2269e-01,  1.4552e-01, -1.5582e-02, -3.2473e-01, -2.7562e-01,\n",
      "         -8.3879e-02, -3.5565e-01,  1.0770e-01,  1.6538e-01, -4.4032e-02,\n",
      "         -2.0534e-01, -3.3243e-01, -1.8596e-01,  2.5203e-01,  8.6354e-02,\n",
      "          6.6990e-03, -3.2090e-01, -2.8858e-01,  6.5054e-02,  2.4838e-01,\n",
      "         -1.9620e-01, -1.3327e-01,  1.9296e-01, -3.2470e-01, -3.4132e-01,\n",
      "          2.3476e-01, -2.1583e-01, -2.3726e-01, -2.0165e-01,  9.0853e-02,\n",
      "         -2.1352e-01, -2.2741e-01, -1.6355e-01, -9.7773e-02,  2.1098e-01,\n",
      "          1.2783e-01, -1.2388e-01, -1.8432e-01,  2.0975e-01,  1.1352e-01,\n",
      "         -3.0852e-01,  3.1843e-01, -2.3851e-01, -2.9900e-01, -2.2245e-01,\n",
      "          1.8512e-01, -1.3818e-01,  3.7542e-01, -3.0740e-01],\n",
      "        [-6.6923e-02, -1.2810e-02, -2.3611e-01,  1.3538e-01,  3.5047e-02,\n",
      "         -1.0233e-01, -2.9940e-01,  1.1554e-03,  2.6027e-02,  1.8797e-01,\n",
      "          1.9344e-01,  1.3708e-01,  3.3078e-01,  7.5826e-02,  4.5553e-03,\n",
      "          1.1722e-01, -7.9832e-02, -1.5282e-01, -5.4900e-02, -1.4295e-01,\n",
      "          2.3520e-01, -2.5828e-01, -1.2492e-01,  3.5597e-02,  3.1948e-01,\n",
      "         -5.7476e-02,  2.0889e-01, -1.6338e-01,  2.6534e-01,  1.1895e-01,\n",
      "          3.2456e-01, -1.3841e-01, -1.2689e-01,  9.8148e-02,  9.4342e-02,\n",
      "          1.1593e-01,  2.1333e-01,  3.9873e-03, -8.8789e-03,  5.6267e-02,\n",
      "         -1.9027e-01,  1.9090e-01, -9.1735e-02,  1.2623e-01,  1.4297e-01,\n",
      "          4.7314e-02,  5.3854e-02,  2.3704e-01, -8.0373e-02,  9.8001e-02,\n",
      "          7.7534e-02,  9.2607e-02,  1.2936e-02, -2.6178e-01,  1.4295e-01,\n",
      "         -2.0565e-01, -1.1827e-01,  3.2084e-01, -5.5682e-02,  2.0850e-01,\n",
      "          7.9179e-02,  1.5848e-01,  2.1915e-02,  3.7793e-02],\n",
      "        [ 2.2201e-01, -1.3013e-01,  2.4755e-01, -2.8641e-01,  2.8584e-01,\n",
      "          3.0152e-01,  2.2464e-01,  1.7282e-01,  2.4514e-01,  1.8450e-01,\n",
      "         -2.0976e-01,  2.3916e-01, -1.1671e-01,  1.3654e-01,  1.8784e-01,\n",
      "         -1.7044e-01, -1.2999e-01,  1.1602e-01,  2.3267e-01, -2.7804e-01,\n",
      "         -2.8278e-01,  9.8894e-04,  1.3531e-01, -1.6404e-01,  2.6899e-01,\n",
      "         -2.6648e-01,  1.8942e-01, -1.1489e-01,  3.0729e-01, -8.3029e-02,\n",
      "         -6.7497e-02, -3.0364e-01, -1.0822e-01,  2.9554e-01,  8.7895e-02,\n",
      "         -2.4330e-01,  2.3368e-01,  1.7747e-01,  2.9008e-01, -1.6551e-01,\n",
      "          3.1783e-01, -2.6627e-01,  1.3441e-01,  3.5735e-02, -1.8949e-01,\n",
      "          7.1613e-02,  1.2630e-01, -6.1071e-02,  8.8155e-02,  3.7214e-02,\n",
      "         -3.5437e-02,  1.7789e-01, -2.5650e-01, -1.9972e-01,  2.6193e-01,\n",
      "          2.9771e-01, -8.4868e-02, -5.7589e-02, -2.2114e-01, -2.2300e-01,\n",
      "         -3.4740e-01, -2.6317e-02, -3.1446e-01, -2.3266e-01],\n",
      "        [-2.9872e-01,  1.2967e-01, -2.6920e-01,  1.8312e-01, -1.6251e-02,\n",
      "         -4.5826e-03, -3.3743e-01, -3.0428e-01, -9.5315e-02,  5.2178e-02,\n",
      "         -4.2725e-02, -2.3887e-01, -1.6992e-01,  4.0925e-02, -2.1211e-01,\n",
      "         -1.1410e-02, -3.0196e-02, -1.6450e-01, -8.4992e-02,  8.0967e-02,\n",
      "         -7.2785e-02,  1.0958e-01, -1.6379e-01, -1.9201e-01, -2.3313e-01,\n",
      "          2.9065e-01,  2.0091e-01,  2.4177e-01,  1.2326e-01, -1.7130e-01,\n",
      "         -2.3729e-01, -2.8920e-01,  2.8179e-01,  2.8228e-01, -5.9554e-02,\n",
      "          2.8663e-01,  1.3138e-01,  8.5585e-02, -3.3708e-01, -1.0607e-01,\n",
      "         -3.2570e-01, -1.6443e-01,  1.7153e-01, -2.8935e-01, -1.2445e-02,\n",
      "          2.4204e-01,  2.1571e-01,  2.2564e-01, -1.4804e-01, -3.1226e-01,\n",
      "          1.4726e-02,  7.7222e-02, -3.2776e-01,  1.0504e-01,  1.4962e-01,\n",
      "         -2.5854e-01, -1.3101e-01,  8.7957e-03, -3.0961e-01, -8.1525e-02,\n",
      "          2.6764e-04, -2.9419e-01,  2.3716e-01,  1.5193e-01],\n",
      "        [ 2.1872e-01,  8.2239e-02,  1.6769e-01, -4.4096e-01,  3.3987e-01,\n",
      "          3.6009e-01,  7.0857e-02, -1.5772e-01,  1.5367e-01,  8.6843e-02,\n",
      "          7.9173e-02, -2.1397e-01, -6.6450e-02, -1.7639e-01, -1.7274e-01,\n",
      "          3.2231e-01, -1.3835e-01,  1.1327e-01, -2.9659e-01,  2.1775e-01,\n",
      "         -9.0291e-02, -1.0565e-03,  2.3479e-01, -2.5019e-02, -3.3027e-01,\n",
      "         -3.1514e-01,  6.9955e-02,  2.7732e-02, -3.7651e-02, -9.4292e-03,\n",
      "         -1.7717e-01, -1.0124e-01, -2.4293e-01,  1.8883e-01, -1.1129e-01,\n",
      "          1.4702e-01, -1.3477e-01,  1.4418e-01, -2.8944e-01, -2.9604e-03,\n",
      "          2.9525e-01,  2.7750e-02, -2.5939e-01, -2.0333e-01,  9.7821e-03,\n",
      "          1.7217e-01,  2.1847e-01,  2.4636e-01,  2.4576e-04, -1.8604e-01,\n",
      "          3.1186e-01,  1.9675e-01, -1.7170e-01,  1.3222e-01,  1.3822e-01,\n",
      "         -1.9013e-01,  3.5490e-01, -1.1086e-01, -2.7822e-01,  3.5757e-01,\n",
      "          4.4552e-02,  5.7404e-02,  1.8058e-01,  1.0338e-01],\n",
      "        [ 3.1207e-04,  1.4352e-01,  2.3047e-01,  2.7403e-01, -1.0562e-01,\n",
      "          7.8677e-02, -1.5651e-01, -1.3130e-01, -7.9515e-02, -1.0762e-01,\n",
      "         -1.0788e-01, -1.8835e-02, -3.3299e-02, -1.9179e-02,  1.4632e-01,\n",
      "         -1.5300e-01,  3.2172e-01, -3.9682e-02,  3.0767e-02, -2.8826e-01,\n",
      "         -3.2042e-01,  1.2675e-02, -1.7367e-01,  1.3426e-01, -1.0263e-02,\n",
      "          2.2594e-01, -2.1765e-02, -1.6109e-01,  4.9028e-02, -2.5782e-01,\n",
      "          1.7874e-01,  1.1489e-01, -1.6298e-01,  1.6058e-01,  2.0043e-01,\n",
      "         -1.5061e-01, -2.8808e-02,  2.3528e-01, -1.9882e-01,  1.8881e-01,\n",
      "         -1.9441e-01, -1.4784e-01,  2.7374e-01,  2.0629e-01, -1.0716e-01,\n",
      "          2.2936e-01,  2.3726e-01,  1.7407e-02, -2.3745e-01,  3.3258e-01,\n",
      "          2.4020e-01, -9.0517e-02,  3.0746e-02,  1.8028e-02,  5.7883e-02,\n",
      "          7.9519e-02, -6.3504e-02,  3.2817e-02, -2.1045e-02,  2.8909e-01,\n",
      "          1.9140e-02,  2.7274e-01, -2.6975e-01, -1.3285e-01],\n",
      "        [-1.9541e-01, -2.8983e-01, -3.5091e-01, -3.8490e-01,  2.5512e-01,\n",
      "         -1.3693e-01,  2.0121e-01,  6.5972e-02,  3.3460e-01, -9.9738e-02,\n",
      "          1.4316e-01,  2.7780e-01, -1.1784e-01, -8.1192e-02,  4.8792e-02,\n",
      "         -1.6661e-01, -5.4980e-02, -1.6888e-01, -2.1878e-01,  1.7355e-01,\n",
      "          3.3196e-01, -2.3454e-01, -9.9131e-02,  1.0277e-01,  1.5874e-01,\n",
      "          1.5189e-01,  1.3777e-01,  2.7629e-01, -1.6047e-01, -3.2373e-01,\n",
      "         -2.8616e-01,  2.3670e-01, -3.0435e-01, -7.9137e-02, -3.9757e-02,\n",
      "          6.6868e-02, -5.6329e-02,  1.1040e-01, -1.4841e-01,  2.8121e-01,\n",
      "          2.1337e-01, -6.1260e-02,  5.6641e-02, -1.6878e-01, -2.6987e-01,\n",
      "         -7.2365e-02,  2.5757e-01,  1.9363e-01, -7.1118e-02, -1.5250e-01,\n",
      "          2.3045e-01, -1.9877e-01, -2.0258e-01, -2.6537e-01,  2.3767e-01,\n",
      "          1.2021e-01,  2.8449e-01,  4.5086e-02,  2.3046e-01,  1.3611e-01,\n",
      "         -4.3806e-02, -3.0742e-01,  1.8257e-01, -3.0575e-01],\n",
      "        [-1.2425e-01,  2.3062e-01, -5.9645e-02, -4.8470e-02,  6.6328e-02,\n",
      "         -2.4773e-01, -4.4667e-03, -4.5368e-02,  2.0079e-01,  1.0293e-01,\n",
      "          1.0679e-01, -2.5901e-01, -9.4754e-02,  1.1447e-02, -2.5427e-01,\n",
      "          1.5633e-01,  2.2719e-01,  2.5098e-02, -2.6357e-01,  2.7377e-01,\n",
      "         -2.9158e-01, -8.2017e-02,  5.6936e-02,  1.9559e-01, -2.5407e-01,\n",
      "          2.2885e-01,  3.2479e-01, -1.7362e-01,  3.0874e-01,  2.9846e-01,\n",
      "         -2.9061e-01,  1.6523e-01, -3.6490e-02,  9.7804e-03,  7.7031e-02,\n",
      "         -1.6186e-02,  1.4375e-01,  1.2493e-01, -2.1121e-01, -7.3689e-02,\n",
      "          2.7715e-01,  1.8309e-02,  4.3812e-02, -1.0514e-01,  4.8353e-02,\n",
      "          3.0661e-01, -3.8346e-02,  8.9966e-03, -1.2495e-01,  1.0590e-02,\n",
      "          2.1329e-01,  6.8039e-02,  2.9371e-01, -2.3882e-01,  3.3154e-01,\n",
      "         -2.3771e-01,  1.7157e-01, -2.0567e-01,  2.5870e-01, -7.4139e-02,\n",
      "          2.4269e-01, -6.1581e-03, -6.9819e-02, -4.7869e-02],\n",
      "        [ 1.3686e-02,  2.0855e-01, -1.4418e-02, -3.4499e-02, -2.9106e-01,\n",
      "          2.0902e-01,  5.1931e-03,  1.9888e-01, -1.4529e-01, -2.2513e-01,\n",
      "          4.2815e-02,  3.2317e-01, -2.2998e-01,  1.5748e-01,  5.2358e-02,\n",
      "         -4.6191e-02, -9.0600e-02,  2.9379e-01, -1.2058e-01, -2.9214e-01,\n",
      "          2.8949e-01,  2.4545e-01, -1.1571e-01, -2.4279e-01, -2.6029e-01,\n",
      "          2.5458e-01, -1.0485e-01,  1.1910e-01,  8.9340e-02,  3.4150e-01,\n",
      "         -1.8082e-01, -3.4070e-01,  1.0061e-01, -1.7288e-02, -2.0343e-01,\n",
      "         -2.8783e-01, -3.2404e-01, -2.8890e-01,  2.4039e-01, -1.5083e-01,\n",
      "         -5.8235e-02, -4.6841e-02,  8.7779e-02,  9.4039e-02,  2.3971e-01,\n",
      "          3.1886e-01,  2.8780e-01,  3.5161e-01,  4.0979e-02,  3.4744e-01,\n",
      "         -2.5053e-02, -2.1271e-02, -9.1903e-02, -2.7367e-01,  2.6547e-03,\n",
      "         -9.2608e-04,  1.3768e-01, -1.3402e-01,  2.3403e-01, -1.9426e-02,\n",
      "          1.5433e-01, -2.1280e-01,  2.9172e-01,  3.2960e-01]], device='mps:0',\n",
      "       grad_fn=<PermuteBackward0>)\n",
      "GRAD enc: tensor([[-4.8333e-05,  1.7119e-04, -5.9531e-06,  8.5758e-05,  4.5537e-04,\n",
      "         -4.8174e-05,  2.1458e-03, -1.3384e-05,  1.1972e-03,  9.5654e-04,\n",
      "         -1.1945e-05, -1.5226e-05,  1.8451e-03, -2.0267e-05, -5.6811e-05,\n",
      "         -1.9050e-05, -2.1903e-05,  2.1018e-03,  1.3221e-03, -8.5788e-06,\n",
      "         -1.0787e-05, -2.4461e-04,  4.4135e-04, -1.6709e-05, -2.2345e-05,\n",
      "          4.0268e-04, -1.0432e-05,  4.0919e-04,  6.6136e-04, -6.8166e-06,\n",
      "          1.5415e-03, -1.8526e-05, -1.0328e-05,  1.4563e-04, -2.3785e-05,\n",
      "          1.0469e-03,  7.1501e-04,  1.5094e-03,  3.3089e-04,  1.9399e-04,\n",
      "          9.5234e-04,  4.8094e-04,  7.5977e-06,  3.8642e-04, -9.2476e-05,\n",
      "         -8.5837e-05,  6.1732e-04,  9.1972e-04, -7.1019e-05,  1.7952e-03,\n",
      "         -3.8508e-06, -3.0423e-04, -4.6784e-06,  1.3577e-03,  6.5037e-04,\n",
      "          9.9619e-04,  1.1907e-03, -1.2954e-05,  1.3655e-03,  4.2227e-05,\n",
      "         -7.9131e-06, -1.1156e-05, -1.0574e-05, -6.5227e-06],\n",
      "        [-1.5098e-05,  1.1388e-04, -6.9290e-06,  7.5538e-04,  2.0760e-04,\n",
      "         -6.5992e-05,  1.3720e-03, -1.8245e-05,  1.3552e-03,  1.6764e-03,\n",
      "         -1.2059e-05, -1.8868e-05,  1.7084e-03, -2.5276e-05,  4.2615e-05,\n",
      "         -1.9978e-05, -2.8890e-05,  1.8857e-03,  9.0768e-04, -1.5335e-05,\n",
      "         -1.3417e-05,  5.7579e-04,  7.9456e-04, -1.3766e-05,  3.9474e-04,\n",
      "          5.9389e-04, -1.2953e-05,  7.5267e-04,  1.6752e-03, -8.0721e-06,\n",
      "          1.6609e-03, -1.8672e-05, -6.8050e-06,  1.5818e-04, -2.6041e-05,\n",
      "          1.0172e-03,  5.7666e-04,  1.2200e-03,  1.2339e-04,  2.3831e-04,\n",
      "          1.5482e-03,  4.6906e-04,  2.1078e-04,  2.5894e-04,  2.3995e-04,\n",
      "          2.1067e-04,  9.7606e-04,  8.6995e-04,  8.1206e-05,  1.3175e-03,\n",
      "         -3.4266e-06,  1.1473e-05,  8.1802e-05,  7.2318e-04,  6.4663e-04,\n",
      "          7.8340e-04,  5.0516e-04, -1.7007e-05,  2.1524e-03,  6.6900e-04,\n",
      "         -9.0006e-06, -7.9235e-06, -1.3313e-05, -1.1024e-05],\n",
      "        [ 9.5765e-06,  4.2921e-05, -3.5855e-07,  4.7408e-04,  3.8555e-05,\n",
      "         -6.1856e-05, -1.5627e-04, -4.7905e-06,  2.4771e-04,  3.4563e-04,\n",
      "         -2.0028e-06, -3.1086e-06, -9.8452e-05, -7.0361e-06,  5.8408e-05,\n",
      "         -3.8697e-06, -1.6705e-05,  2.2090e-04, -4.0010e-05, -4.8830e-06,\n",
      "         -3.2958e-06,  3.7526e-04,  1.6497e-04, -1.2986e-06,  2.8799e-04,\n",
      "          2.7073e-04, -3.9636e-06,  3.8281e-04,  5.3654e-04, -2.0371e-06,\n",
      "          3.8328e-04, -1.0818e-05,  5.8710e-07,  4.6047e-05, -1.5707e-05,\n",
      "          6.9793e-05, -6.6755e-05,  1.7806e-04, -5.7332e-05,  1.1441e-04,\n",
      "          4.0928e-04,  8.4243e-05,  1.8950e-04,  2.4210e-05,  1.9087e-04,\n",
      "          1.3867e-04,  2.8723e-04,  2.4606e-04,  9.0492e-05, -1.2595e-04,\n",
      "          6.1651e-07,  9.2570e-05,  6.2644e-05, -2.0279e-04,  2.2052e-04,\n",
      "          9.6513e-05, -2.8036e-04, -3.1473e-06,  6.1714e-04,  3.9271e-04,\n",
      "         -9.4467e-07,  7.5859e-07, -3.0189e-06, -2.4456e-06],\n",
      "        [ 6.0572e-06,  9.9129e-05, -1.4683e-05,  7.7860e-04,  4.8044e-04,\n",
      "         -1.0146e-04,  3.1815e-03, -2.5923e-05,  2.0775e-03,  2.4678e-03,\n",
      "         -2.5084e-05, -3.0361e-05,  3.9837e-03, -4.0898e-05,  3.0927e-06,\n",
      "         -3.3555e-05, -4.3583e-05,  3.2084e-03,  2.6920e-03, -2.1068e-05,\n",
      "         -2.1302e-05,  5.5909e-04,  1.5519e-03, -2.5635e-05,  6.4160e-04,\n",
      "          1.0221e-03, -2.1581e-05,  1.1370e-03,  2.2364e-03, -1.4902e-05,\n",
      "          2.5700e-03, -3.4922e-05, -1.6203e-05,  2.6992e-04, -4.5562e-05,\n",
      "          2.0690e-03,  1.1008e-03,  2.2503e-03,  3.5080e-04,  3.3795e-04,\n",
      "          1.9842e-03,  1.0515e-03,  5.4342e-04,  4.8295e-04,  2.0246e-04,\n",
      "          8.6563e-05,  2.1718e-03,  1.6859e-03,  6.9739e-05,  2.5899e-03,\n",
      "         -1.0444e-05,  1.2343e-04,  4.0547e-05,  2.5456e-03,  1.1123e-03,\n",
      "          1.5069e-03,  1.4196e-03, -2.9279e-05,  3.0998e-03,  4.1678e-04,\n",
      "         -1.5789e-05, -1.6878e-05, -1.9128e-05, -1.6330e-05],\n",
      "        [-1.3488e-05,  3.9016e-05, -3.9085e-06, -4.0673e-05,  9.7940e-05,\n",
      "         -1.1001e-05,  8.5707e-04, -6.3056e-06,  3.6689e-04,  7.7516e-04,\n",
      "         -5.0121e-06, -9.1238e-06,  1.1851e-03, -8.4856e-06, -4.4729e-05,\n",
      "         -7.8769e-06, -8.4382e-06,  9.1705e-04,  5.2610e-04, -6.1714e-06,\n",
      "         -5.3783e-06,  1.2583e-04,  2.2116e-04, -6.7847e-06,  5.9162e-05,\n",
      "          1.9319e-04, -4.8199e-06,  9.1284e-05,  6.0607e-04, -3.1055e-06,\n",
      "          5.4720e-04, -6.3891e-06, -3.5092e-06,  9.0684e-05, -8.1476e-06,\n",
      "          4.6239e-04,  2.5563e-04,  5.7292e-04,  4.0826e-05,  8.4178e-06,\n",
      "          5.5685e-04,  1.9937e-04, -1.0658e-05,  1.0306e-04, -1.0041e-04,\n",
      "          1.1723e-05,  2.7813e-04,  3.0349e-04, -7.7646e-05,  8.0672e-04,\n",
      "         -2.1500e-06, -2.5026e-05, -3.5667e-05,  6.1841e-04,  4.5301e-05,\n",
      "          2.9929e-04,  3.9015e-04, -8.1484e-06,  8.3730e-04,  4.6537e-05,\n",
      "         -4.5078e-06, -5.1673e-06, -5.6559e-06, -4.5474e-06],\n",
      "        [-4.6553e-05,  1.2148e-04, -1.8814e-05,  5.2992e-04,  4.5529e-04,\n",
      "         -3.2553e-05,  4.1476e-03, -3.3229e-05,  2.4832e-03,  3.4376e-03,\n",
      "         -2.7315e-05, -4.1686e-05,  5.2375e-03, -4.6843e-05, -7.3839e-05,\n",
      "         -4.1292e-05, -3.3879e-05,  4.2782e-03,  2.9165e-03, -2.8023e-05,\n",
      "         -2.6163e-05,  5.2474e-04,  1.6767e-03, -3.2503e-05,  3.7119e-04,\n",
      "          9.2035e-04, -2.4316e-05,  8.7184e-04,  2.9099e-03, -1.6487e-05,\n",
      "          3.1084e-03, -2.5331e-05, -1.9923e-05,  2.6513e-04, -3.2011e-05,\n",
      "          2.5290e-03,  1.5203e-03,  2.7716e-03,  3.7831e-04,  2.2796e-04,\n",
      "          2.7046e-03,  1.0477e-03,  1.5760e-04,  5.3926e-04, -4.0337e-05,\n",
      "          1.6390e-04,  2.0801e-03,  1.6698e-03, -6.3121e-05,  3.7454e-03,\n",
      "         -1.1674e-05, -1.5129e-04, -3.6358e-05,  2.8831e-03,  9.5543e-04,\n",
      "          1.7001e-03,  1.9920e-03, -3.7322e-05,  3.9828e-03,  5.6863e-04,\n",
      "         -2.1395e-05, -2.3201e-05, -2.5845e-05, -2.1805e-05],\n",
      "        [-4.4021e-05, -9.7757e-05,  1.2488e-05, -3.0796e-04, -3.1655e-04,\n",
      "         -6.5941e-05, -1.9909e-03,  1.4411e-05, -9.6041e-04, -2.1600e-03,\n",
      "          1.7252e-05,  2.0648e-05, -3.5203e-03,  2.2703e-05, -2.8894e-05,\n",
      "          1.8372e-05, -7.9693e-06, -1.9851e-03, -1.9501e-03,  1.2645e-05,\n",
      "          1.4229e-05, -8.0939e-04, -1.0033e-03,  1.4132e-05, -6.9733e-04,\n",
      "         -7.3747e-04,  1.2844e-05, -6.9953e-04, -1.7142e-03,  1.1550e-05,\n",
      "         -1.2633e-03, -2.9037e-06,  8.6535e-06, -3.5410e-04, -8.9215e-06,\n",
      "         -1.3876e-03, -3.8485e-04, -1.2865e-03, -1.7935e-04, -2.3741e-04,\n",
      "         -1.2365e-03, -8.9514e-04, -4.9241e-04, -3.2848e-04, -1.5892e-04,\n",
      "         -1.5312e-04, -1.5052e-03, -1.0318e-03, -9.7447e-05, -1.6373e-03,\n",
      "          8.4197e-06, -4.7578e-04, -4.7959e-05, -2.3481e-03, -6.1429e-04,\n",
      "         -8.2578e-04, -8.6487e-04,  2.3053e-05, -1.9967e-03, -6.4650e-05,\n",
      "          1.2359e-05,  1.2522e-05,  1.1903e-05,  1.2746e-05],\n",
      "        [-3.3470e-05, -6.9303e-05, -1.8955e-06,  1.5699e-05, -1.4973e-04,\n",
      "         -4.3153e-06,  3.9063e-04, -5.4716e-06,  3.5658e-04,  4.4165e-04,\n",
      "         -5.9906e-07, -6.7637e-06,  4.3452e-04, -4.8031e-06, -3.0988e-05,\n",
      "         -5.0704e-06, -6.1625e-06,  4.8717e-04,  6.2545e-05, -5.3881e-06,\n",
      "         -2.1313e-06, -4.0991e-05,  2.4456e-04, -3.3076e-06, -2.5136e-04,\n",
      "         -1.4213e-04, -1.9786e-06, -1.6787e-04,  4.7736e-04,  8.9571e-08,\n",
      "          3.7701e-04, -1.6563e-06, -2.3897e-06, -1.2732e-04, -3.7911e-06,\n",
      "          2.4582e-04,  3.2071e-04,  1.9060e-04, -3.1593e-05, -1.4010e-04,\n",
      "          4.8232e-04, -1.2251e-04, -2.6668e-04, -5.6167e-05, -6.9629e-05,\n",
      "          5.8902e-05,  9.2325e-05, -1.0416e-04, -4.5565e-05,  5.6168e-04,\n",
      "         -5.2769e-07, -2.6744e-04, -5.6794e-05, -1.6762e-04, -1.0688e-04,\n",
      "          6.0047e-05,  1.8885e-04, -3.4372e-06,  5.7714e-04,  2.7804e-04,\n",
      "         -2.6728e-06, -1.9962e-06, -3.8316e-06, -3.1086e-06],\n",
      "        [-2.1720e-06,  2.6401e-05, -1.3612e-06,  4.0242e-05,  6.6001e-05,\n",
      "         -1.0973e-05,  2.5018e-04, -2.4549e-06,  7.8438e-05,  3.2145e-04,\n",
      "         -2.1023e-06, -3.3146e-06,  3.9836e-04, -3.7845e-06,  1.3545e-06,\n",
      "         -2.8998e-06, -3.8398e-06,  3.4919e-04,  1.8601e-04, -2.6625e-06,\n",
      "         -2.5636e-06,  1.4389e-04,  4.8264e-05, -2.3655e-06,  1.2484e-04,\n",
      "          1.5316e-04, -2.3541e-06,  1.1817e-04,  2.6799e-04, -1.7651e-06,\n",
      "          2.2031e-04, -3.2712e-06, -7.9194e-07,  5.7480e-05, -3.8349e-06,\n",
      "          1.5457e-04, -1.6234e-05,  2.5148e-04, -5.7534e-06,  5.2287e-05,\n",
      "          2.1606e-04,  9.6390e-05,  4.8695e-05,  5.3063e-05, -1.3646e-06,\n",
      "          3.1117e-05,  1.3992e-04,  1.7777e-04, -1.0730e-05,  2.0830e-04,\n",
      "         -3.9774e-07,  3.8224e-05,  4.2850e-06,  2.4284e-04,  6.8455e-05,\n",
      "          1.1073e-04,  5.9973e-05, -3.4715e-06,  3.7788e-04,  6.5971e-05,\n",
      "         -1.6202e-06, -1.8140e-06, -2.3344e-06, -1.7809e-06],\n",
      "        [ 2.0632e-06,  1.2337e-05, -8.0469e-06,  8.6764e-06,  2.1828e-04,\n",
      "          2.9479e-05,  1.6200e-03, -8.7095e-06,  6.5077e-04,  1.1784e-03,\n",
      "         -1.1766e-05, -1.3514e-05,  2.3782e-03, -1.4838e-05, -3.6798e-05,\n",
      "         -1.2950e-05, -2.0089e-06,  1.3854e-03,  1.4836e-03, -7.5407e-06,\n",
      "         -8.8505e-06,  2.2396e-04,  6.5651e-04, -1.1119e-05,  2.7985e-04,\n",
      "          4.1916e-04, -8.4386e-06,  3.3783e-04,  8.5910e-04, -6.8243e-06,\n",
      "          8.6356e-04, -5.0052e-06, -7.5486e-06,  1.8061e-04, -3.6619e-06,\n",
      "          9.7910e-04,  4.0479e-04,  9.5319e-04,  1.5666e-04,  1.1790e-04,\n",
      "          6.5377e-04,  5.4648e-04,  2.3677e-04,  2.2309e-04, -5.9458e-05,\n",
      "         -1.2449e-05,  9.9650e-04,  7.1557e-04, -2.7640e-05,  1.2885e-03,\n",
      "         -6.0488e-06,  1.5824e-04, -1.4734e-05,  1.6508e-03,  3.4623e-04,\n",
      "          6.2189e-04,  7.6180e-04, -1.4230e-05,  1.1711e-03, -1.3032e-04,\n",
      "         -7.8841e-06, -9.1590e-06, -7.2981e-06, -7.0708e-06]], device='mps:0')\n",
      "GRAD dec: tensor([[ 1.0246e-04,  2.1452e-05,  5.6985e-05, -3.5276e-05,  1.5466e-04,\n",
      "          1.1951e-04, -2.9094e-05,  8.8838e-05,  8.5017e-05,  7.8062e-05,\n",
      "         -3.3198e-06,  1.7254e-05, -1.0169e-04, -8.4579e-05, -9.7637e-05,\n",
      "          1.4573e-04, -1.2322e-04,  1.7604e-04, -1.5178e-05, -7.4190e-06,\n",
      "         -8.1171e-07, -4.3148e-08,  2.9106e-05, -1.5467e-04,  2.6558e-05,\n",
      "          1.3988e-05,  1.7098e-04, -1.8737e-06,  6.0963e-05,  1.0565e-04,\n",
      "          4.3517e-05, -3.2457e-04, -1.3149e-05,  9.7497e-05, -1.9850e-06,\n",
      "         -2.8594e-06, -3.5329e-05, -3.7306e-05,  1.1081e-04, -3.0171e-04,\n",
      "          1.8591e-04,  5.1890e-05, -9.6986e-06, -1.0185e-04,  8.3931e-05,\n",
      "         -1.3450e-05, -5.9660e-05,  1.0995e-04,  7.3692e-05,  2.2478e-05,\n",
      "         -9.5150e-05,  1.3409e-04, -2.8564e-05, -3.4332e-07,  1.5097e-04,\n",
      "          1.1557e-05, -4.2690e-05,  2.7896e-07,  1.4156e-05, -5.7636e-05,\n",
      "         -1.4682e-04,  5.7332e-05, -1.7072e-06, -1.7994e-05],\n",
      "        [-2.7217e-04,  2.9205e-05, -5.4719e-05,  1.1251e-05, -8.5122e-04,\n",
      "         -2.9652e-04, -6.0696e-05, -1.2597e-04, -7.2421e-04, -4.1321e-04,\n",
      "          2.1202e-06, -2.7883e-04,  1.6665e-04,  4.8047e-04,  9.8556e-05,\n",
      "         -1.8676e-04,  5.6534e-04, -3.9412e-04,  5.8573e-04,  5.0086e-05,\n",
      "          1.9161e-06,  3.9284e-04, -1.6394e-04,  3.0975e-04, -1.4587e-04,\n",
      "          2.0802e-04, -3.5698e-04,  5.3190e-06,  1.1188e-04, -2.1367e-04,\n",
      "         -7.9205e-05,  1.3622e-03,  1.1413e-04, -4.1321e-04,  7.3511e-06,\n",
      "         -2.2646e-06,  3.1980e-04,  1.8722e-05, -1.4619e-05,  1.0606e-03,\n",
      "         -5.1656e-04, -1.0587e-04,  3.0400e-04,  4.9240e-04, -2.3005e-04,\n",
      "          1.3282e-04,  9.6786e-05, -5.9624e-04, -3.5679e-04, -1.0189e-04,\n",
      "         -1.1013e-04, -1.3417e-04,  3.9942e-04,  2.4350e-07, -6.4816e-04,\n",
      "          1.8708e-04,  1.6288e-04, -2.7466e-05, -3.8180e-06,  1.4309e-05,\n",
      "          2.3538e-04, -2.7605e-04,  4.8624e-06,  1.3132e-04],\n",
      "        [ 3.4335e-04, -2.1856e-04,  2.6932e-04, -1.3250e-05,  7.2217e-04,\n",
      "          4.3689e-04, -6.3256e-05,  1.8096e-04,  4.9599e-04,  9.0395e-05,\n",
      "         -1.7249e-05,  3.8154e-05, -7.9782e-04, -1.1460e-04, -3.2099e-04,\n",
      "          2.3581e-04, -6.2170e-04,  4.3824e-04, -2.2003e-04,  1.1454e-04,\n",
      "         -3.3076e-07,  1.6425e-05,  1.8014e-04, -1.2759e-04, -9.6011e-05,\n",
      "         -1.0593e-04,  1.5066e-04, -3.8357e-06,  3.0506e-06,  2.1886e-04,\n",
      "         -1.1879e-04, -7.9402e-04,  2.3190e-05,  2.3672e-04, -2.3524e-04,\n",
      "          1.0948e-05, -1.0131e-04, -3.7978e-04,  1.9304e-04, -6.5657e-04,\n",
      "          5.7298e-04,  1.0545e-04, -4.2288e-04, -3.4445e-04,  1.4996e-04,\n",
      "          8.2782e-06,  4.0858e-04,  6.2617e-04, -2.5903e-05, -1.5867e-04,\n",
      "         -1.5019e-04,  5.8134e-04, -2.2813e-04,  2.0097e-07,  3.0728e-04,\n",
      "          8.8384e-05,  4.2957e-05, -2.4370e-04, -2.6482e-04,  2.8608e-05,\n",
      "         -2.1414e-04,  4.3674e-05, -3.5705e-06,  4.6418e-05],\n",
      "        [ 2.5345e-04, -2.5699e-04,  2.8994e-04, -4.1478e-05,  5.3215e-04,\n",
      "          3.2064e-04, -1.4289e-04,  1.6280e-04,  4.8475e-04, -1.0772e-04,\n",
      "         -2.3962e-05,  4.8809e-05, -7.0536e-04, -6.1741e-05, -2.4250e-04,\n",
      "          1.9545e-04, -3.6057e-04,  2.2224e-04, -2.0172e-04, -1.3690e-04,\n",
      "         -8.0746e-07, -9.9091e-05,  1.3228e-04,  2.1239e-04,  5.0303e-05,\n",
      "         -1.6126e-04,  2.7744e-05, -3.9145e-06,  1.8721e-04,  1.5460e-04,\n",
      "         -1.2922e-05, -5.2978e-04, -5.2197e-06,  2.2840e-04, -2.4865e-05,\n",
      "         -1.3468e-05,  9.4097e-05, -3.5669e-04,  1.1916e-04, -2.9277e-04,\n",
      "          3.9706e-04, -1.5918e-05, -3.7294e-04, -2.0726e-04,  4.8789e-05,\n",
      "          2.8795e-05,  4.3965e-04,  3.8969e-04,  6.0488e-05, -8.7404e-05,\n",
      "          1.4116e-04,  4.5115e-04, -2.2254e-04, -7.3786e-07,  3.1073e-04,\n",
      "          7.8614e-05, -1.4443e-04, -2.2960e-04, -4.4037e-04,  1.7429e-04,\n",
      "         -7.4226e-05,  1.5288e-04, -2.5562e-06, -1.7446e-05],\n",
      "        [-3.5533e-04,  2.5683e-04, -2.9348e-04, -3.6714e-05, -8.9752e-04,\n",
      "         -4.3895e-04,  1.0969e-04, -1.8670e-04, -7.6451e-04, -1.2483e-04,\n",
      "          1.9941e-05, -1.4091e-04,  7.0584e-04,  2.5549e-04,  2.9264e-04,\n",
      "         -2.0445e-04,  6.0921e-04, -3.6876e-04,  4.7730e-04,  4.6797e-05,\n",
      "          9.6783e-07,  2.7208e-04, -1.9874e-04, -7.0470e-05, -6.5498e-05,\n",
      "          2.2071e-04, -1.3511e-04,  5.2990e-06, -7.2334e-05, -2.0773e-04,\n",
      "          1.6824e-05,  1.0563e-03,  5.8882e-05, -3.3444e-04,  9.0359e-05,\n",
      "         -2.4903e-06,  8.8842e-05,  3.9501e-04, -7.4280e-05,  7.3943e-04,\n",
      "         -5.7034e-04, -4.6441e-05,  5.1703e-04,  4.3743e-04, -1.2992e-04,\n",
      "          4.0834e-05, -3.8138e-04, -6.7205e-04, -1.9411e-04,  8.3078e-05,\n",
      "         -1.6778e-04, -4.7760e-04,  3.7736e-04,  3.3000e-07, -4.8071e-04,\n",
      "          4.5373e-05,  1.4335e-04,  2.1384e-04,  4.1247e-04, -1.2454e-04,\n",
      "          1.1177e-04, -2.1685e-04,  4.0070e-06,  7.5191e-05],\n",
      "        [ 2.5750e-04, -2.3730e-04,  2.9156e-04, -7.1877e-05,  5.6421e-04,\n",
      "          3.6227e-04, -1.1500e-05,  1.3394e-04,  4.2369e-04, -6.2289e-05,\n",
      "         -2.5824e-05,  4.6959e-05, -8.0932e-04, -3.2860e-05, -2.5646e-04,\n",
      "          9.5899e-05, -4.3958e-04,  2.8669e-04, -1.7368e-04, -2.4827e-05,\n",
      "         -4.1436e-07, -2.3388e-05,  1.8452e-04,  5.9625e-05, -4.7218e-05,\n",
      "         -1.3871e-04,  2.9382e-05, -2.8568e-06,  3.4023e-05,  1.0867e-04,\n",
      "         -1.0725e-04, -4.9892e-04,  1.7372e-05,  1.9170e-04, -1.6791e-04,\n",
      "         -2.2723e-06,  2.3029e-05, -3.9197e-04,  1.0729e-04, -3.1639e-04,\n",
      "          4.0756e-04,  1.0879e-05, -3.5598e-04, -1.8650e-04,  4.0631e-05,\n",
      "          7.9720e-05,  5.2456e-04,  4.8504e-04, -1.6418e-05, -1.2371e-04,\n",
      "          1.4007e-05,  4.5888e-04, -1.9319e-04, -4.0668e-07,  2.1368e-04,\n",
      "          1.5085e-04, -2.4788e-05, -2.5333e-04, -3.2785e-04,  1.5709e-04,\n",
      "         -1.0469e-04,  6.2509e-05, -2.4209e-06,  3.2905e-05],\n",
      "        [ 5.6033e-04, -2.5365e-04,  2.5571e-04, -2.6333e-05,  1.4634e-03,\n",
      "          6.4541e-04, -6.7852e-05,  2.7143e-04,  1.1101e-03,  4.5410e-04,\n",
      "         -7.3051e-06,  2.4205e-04, -9.3456e-04, -5.1402e-04, -4.0357e-04,\n",
      "          4.1512e-04, -1.1574e-03,  7.6193e-04, -7.3853e-04,  1.5307e-04,\n",
      "         -1.6033e-06, -2.6143e-04,  2.7493e-04, -3.9020e-04, -4.7576e-05,\n",
      "         -2.5579e-04,  4.3597e-04, -8.1464e-06, -1.2870e-04,  3.9648e-04,\n",
      "         -9.9140e-05, -1.9328e-03, -4.5914e-05,  5.8393e-04, -2.7687e-04,\n",
      "          1.9229e-05, -4.1069e-04, -3.2975e-04,  2.1063e-04, -1.5612e-03,\n",
      "          1.0130e-03,  2.2952e-04, -7.3115e-04, -7.8587e-04,  3.6375e-04,\n",
      "         -1.1116e-04,  3.8008e-04,  1.1958e-03,  1.9916e-04, -1.0431e-04,\n",
      "         -6.6851e-05,  7.1116e-04, -5.5812e-04,  4.6541e-07,  8.6396e-04,\n",
      "         -1.0060e-04, -3.5209e-05, -2.2710e-04, -2.2626e-04,  3.3252e-05,\n",
      "         -4.5768e-04,  2.1861e-04, -7.4791e-06, -1.3558e-05],\n",
      "        [ 1.3362e-04, -2.6532e-04,  2.1792e-04,  2.5988e-05,  4.1810e-04,\n",
      "          2.0332e-04, -4.8541e-05,  2.9855e-05,  3.7430e-04, -1.4030e-04,\n",
      "         -1.7051e-05,  2.5070e-05, -6.0654e-04,  3.2874e-05, -1.4332e-04,\n",
      "         -8.6464e-05, -2.6856e-04,  3.7989e-05, -2.3430e-04, -1.8791e-05,\n",
      "          5.8298e-07, -1.1497e-04,  1.3073e-04,  3.3233e-04, -4.5163e-05,\n",
      "         -1.5849e-04, -1.8800e-04, -9.2091e-07,  5.2367e-06, -3.3310e-05,\n",
      "         -1.2897e-04, -1.4994e-04,  7.8032e-06,  8.0991e-05, -1.0954e-04,\n",
      "          5.2987e-06,  7.6444e-05, -3.4889e-04, -7.0802e-05,  3.1067e-05,\n",
      "          1.7115e-04, -5.6410e-05, -3.7680e-04, -1.0308e-04, -6.2941e-05,\n",
      "          7.1423e-05,  5.6606e-04,  3.6296e-04, -2.1453e-05, -1.4063e-04,\n",
      "          2.3420e-04,  2.7103e-04, -1.8325e-04,  1.4844e-08,  5.8553e-05,\n",
      "          5.5731e-05, -2.0309e-05, -2.3433e-04, -3.9907e-04,  2.3312e-04,\n",
      "          1.2029e-04,  2.3093e-05, -2.9294e-07,  1.5332e-05],\n",
      "        [ 3.0793e-04, -1.7471e-05,  7.8442e-05, -1.0782e-05,  7.6210e-04,\n",
      "          3.5677e-04,  9.5943e-05,  1.5156e-04,  5.3212e-04,  4.1658e-04,\n",
      "         -7.3514e-07,  1.7212e-04, -3.1312e-04, -3.5587e-04, -1.9185e-04,\n",
      "          2.3577e-04, -6.4148e-04,  5.1007e-04, -3.5730e-04,  1.4471e-04,\n",
      "         -1.1472e-06, -1.1750e-04,  1.5226e-04, -5.0666e-04, -7.3869e-06,\n",
      "         -9.4866e-05,  3.8414e-04, -4.3604e-06, -1.5900e-04,  2.6406e-04,\n",
      "         -1.1831e-05, -1.2081e-03, -4.6230e-05,  3.1000e-04, -1.8401e-04,\n",
      "          1.4248e-05, -3.4512e-04, -9.2977e-05,  1.5493e-04, -1.0804e-03,\n",
      "          5.6764e-04,  1.7928e-04, -2.6285e-04, -4.5857e-04,  2.6003e-04,\n",
      "         -1.0511e-04, -6.7038e-05,  6.0840e-04,  1.5213e-04, -2.9559e-07,\n",
      "         -2.2824e-04,  3.0757e-04, -2.7229e-04,  3.3495e-07,  4.7305e-04,\n",
      "         -6.4457e-05,  1.8757e-05, -2.5263e-05,  9.5946e-05, -1.4025e-04,\n",
      "         -3.2510e-04,  1.2215e-04, -4.7403e-06, -2.9368e-05],\n",
      "        [ 8.6030e-06,  6.4393e-05, -1.1889e-05, -4.7466e-05,  2.2442e-07,\n",
      "          1.2858e-05,  7.1028e-05,  1.1424e-05,  6.2856e-06,  6.0966e-05,\n",
      "         -3.0343e-06,  4.7399e-05,  6.4802e-05, -6.3628e-05,  2.9449e-05,\n",
      "          3.3197e-05, -4.2458e-06,  5.3953e-05,  5.0052e-06, -5.3921e-05,\n",
      "         -6.0878e-07, -1.7094e-05,  1.9679e-05, -1.5244e-04,  4.9436e-05,\n",
      "         -9.8523e-06,  9.9846e-05, -4.9669e-07, -3.6909e-05,  4.1523e-05,\n",
      "          4.6242e-05, -1.3924e-04, -1.3219e-05,  4.7142e-05,  2.4409e-05,\n",
      "         -6.1487e-06, -4.8141e-05,  7.3824e-05,  3.2369e-05, -1.3005e-04,\n",
      "          3.6871e-05,  1.3603e-05,  7.9974e-05, -4.0934e-06,  4.3011e-05,\n",
      "         -6.6980e-06, -1.3023e-04, -3.1414e-05,  4.0431e-05,  6.6051e-05,\n",
      "         -6.2207e-05, -5.9133e-05, -1.2497e-05, -2.6617e-07,  8.3165e-05,\n",
      "          1.6624e-05, -4.7455e-05,  4.9126e-05,  1.0600e-04, -4.0259e-05,\n",
      "         -8.2443e-05,  5.0585e-05, -7.1549e-07, -1.8867e-05]], device='mps:0')\n",
      "torch.Size([10, 64])\n",
      "torch.Size([10, 64])\n"
     ]
    }
   ],
   "source": [
    "print(model_7.encoder[6].weight)\n",
    "print(model_7.decoder[0].weight.T)\n",
    "print(f\"GRAD enc: {model_7.encoder[6].weight.grad}\")\n",
    "#print(f\"GRAD enc 2: {model_7.encoder[2].weight.grad}\")\n",
    "print(f\"GRAD dec: {model_7.decoder[0].weight.grad.T}\")\n",
    "\n",
    "print(model_7.encoder[6].weight.shape)\n",
    "print(model_7.decoder[0].weight.T.shape)"
   ]
  }
 ],
 "metadata": {
  "kernelspec": {
   "display_name": "Python 3",
   "language": "python",
   "name": "python3"
  },
  "language_info": {
   "codemirror_mode": {
    "name": "ipython",
    "version": 3
   },
   "file_extension": ".py",
   "mimetype": "text/x-python",
   "name": "python",
   "nbconvert_exporter": "python",
   "pygments_lexer": "ipython3",
   "version": "3.9.6"
  },
  "orig_nbformat": 4
 },
 "nbformat": 4,
 "nbformat_minor": 2
}
